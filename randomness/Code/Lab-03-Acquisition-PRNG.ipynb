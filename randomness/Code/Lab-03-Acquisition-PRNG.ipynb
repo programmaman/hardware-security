{
 "cells": [
  {
   "cell_type": "markdown",
   "id": "b52d1a25",
   "metadata": {},
   "source": [
    "__Lab 03 - Acquisition__\n",
    "\n",
    "Student Names: [insert your full name(s) here]\n",
    "\n",
    "Group Number: [insert your group number as in Canvas here]"
   ]
  },
  {
   "cell_type": "markdown",
   "id": "ba673af0",
   "metadata": {},
   "source": [
    "# Setup"
   ]
  },
  {
   "cell_type": "markdown",
   "id": "26c86493",
   "metadata": {},
   "source": [
    "## FPGA Cofigurations & Import Python Libraries"
   ]
  },
  {
   "cell_type": "markdown",
   "id": "d0a0314e",
   "metadata": {},
   "source": [
    "These are the FPGA configurations need when programming it with the bitstream.\n",
    "\n",
    "BITSTREAM_FILENAME is the path and filename to the Bitstream to program the FPGA with.\n",
    "\n",
    "Also, we import the Python libraries here."
   ]
  },
  {
   "cell_type": "code",
   "execution_count": 44,
   "id": "c6bb9e8b",
   "metadata": {},
   "outputs": [],
   "source": [
    "import numpy as np\n",
    "import os\n",
    "from tqdm import tnrange"
   ]
  },
  {
   "cell_type": "markdown",
   "id": "dead6182",
   "metadata": {},
   "source": [
    "# Generating Random bits using Numpy"
   ]
  },
  {
   "cell_type": "code",
   "execution_count": 55,
   "id": "62228ce7",
   "metadata": {},
   "outputs": [
    {
     "name": "stdout",
     "output_type": "stream",
     "text": [
      "✔️ OK to continue!\n"
     ]
    }
   ],
   "source": [
    "def np_prng(rand_int: int) -> str:\n",
    "    r_bytes = np.random.default_rng().bytes(rand_int)\n",
    "    return r_bytes\n",
    "    \n",
    "\n",
    "print(\"✔️ OK to continue!\")"
   ]
  },
  {
   "cell_type": "code",
   "execution_count": 46,
   "id": "586f28d4",
   "metadata": {},
   "outputs": [
    {
     "name": "stdout",
     "output_type": "stream",
     "text": [
      "✔️ OK to continue!\n"
     ]
    }
   ],
   "source": [
    "def random_prng(rand_int: int) -> str:\n",
    "    r_bytes = os.urandom(rand_int)\n",
    "    return r_bytes\n",
    "    \n",
    "\n",
    "print(\"✔️ OK to continue!\")"
   ]
  },
  {
   "cell_type": "code",
   "execution_count": 56,
   "id": "d2060ee1",
   "metadata": {
    "scrolled": true
   },
   "outputs": [
    {
     "name": "stdout",
     "output_type": "stream",
     "text": [
      "1250000\n"
     ]
    }
   ],
   "source": [
    "# (125000).to_bytes(3, byteorder='big')\n",
    "resp0 = 0\n",
    "# resp1 = 0\n",
    "# resp0 = np_prng(125000)\n",
    "# resp1 = random_prng(125000)\n",
    "resp0 = np_prng(1250000)\n",
    "resp1 = random_prng(1250000)\n",
    "# print(type(resp))\n",
    "print(len(resp0))\n",
    "# print(resp0)\n",
    "print(len(resp1))\n",
    "# print(resp1)"
   ]
  },
  {
   "cell_type": "markdown",
   "id": "bd50f9f9",
   "metadata": {},
   "source": [
    "# Save Data"
   ]
  },
  {
   "cell_type": "markdown",
   "id": "7cb54131",
   "metadata": {},
   "source": [
    "Save your __raw bytes__ into a file. `\"wb\"` lets you write to the file with raw bytes."
   ]
  },
  {
   "cell_type": "code",
   "execution_count": 58,
   "id": "df61aaf9",
   "metadata": {},
   "outputs": [
    {
     "name": "stdout",
     "output_type": "stream",
     "text": [
      "✔️ OK to continue!\n"
     ]
    }
   ],
   "source": [
    "# Open file to write raw bytes\n",
    "# filename = \"../Data/NUMPY_RANDOM_PRNG_1M.bin\"\n",
    "filename = \"../Data/NUMPY_RANDOM_PRNG_10M.bin\"\n",
    "f = open(filename, \"wb\")\n",
    "f.write(resp0)\n",
    "# Remember to close the file at the end\n",
    "f.close()\n",
    "print(\"✔️ OK to continue!\")"
   ]
  },
  {
   "cell_type": "code",
   "execution_count": 50,
   "id": "b71ceeaf",
   "metadata": {},
   "outputs": [
    {
     "name": "stdout",
     "output_type": "stream",
     "text": [
      "✔️ OK to continue!\n"
     ]
    }
   ],
   "source": [
    "# filename1 = \"../Data/OS_URANDOM_PRNG_1M.bin\"\n",
    "filename1 = \"../Data/OS_URANDOM_PRNG_10M.bin\"\n",
    "f1 = open(filename1, \"wb\")\n",
    "f1.write(resp1)\n",
    "# Remember to close the file at the end\n",
    "f1.close()\n",
    "print(\"✔️ OK to continue!\")"
   ]
  }
 ],
 "metadata": {
  "kernelspec": {
   "display_name": "Python 3 (ipykernel)",
   "language": "python",
   "name": "python3"
  },
  "language_info": {
   "codemirror_mode": {
    "name": "ipython",
    "version": 3
   },
   "file_extension": ".py",
   "mimetype": "text/x-python",
   "name": "python",
   "nbconvert_exporter": "python",
   "pygments_lexer": "ipython3",
   "version": "3.9.5"
  },
  "toc": {
   "base_numbering": 1,
   "nav_menu": {},
   "number_sections": true,
   "sideBar": true,
   "skip_h1_title": false,
   "title_cell": "Table of Contents",
   "title_sidebar": "Contents",
   "toc_cell": false,
   "toc_position": {},
   "toc_section_display": true,
   "toc_window_display": false
  },
  "varInspector": {
   "cols": {
    "lenName": 16,
    "lenType": 16,
    "lenVar": 40
   },
   "kernels_config": {
    "python": {
     "delete_cmd_postfix": "",
     "delete_cmd_prefix": "del ",
     "library": "var_list.py",
     "varRefreshCmd": "print(var_dic_list())"
    },
    "r": {
     "delete_cmd_postfix": ") ",
     "delete_cmd_prefix": "rm(",
     "library": "var_list.r",
     "varRefreshCmd": "cat(var_dic_list()) "
    }
   },
   "position": {
    "height": "326.836px",
    "left": "1152px",
    "right": "20px",
    "top": "130px",
    "width": "350px"
   },
   "types_to_exclude": [
    "module",
    "function",
    "builtin_function_or_method",
    "instance",
    "_Feature"
   ],
   "window_display": false
  }
 },
 "nbformat": 4,
 "nbformat_minor": 5
}
