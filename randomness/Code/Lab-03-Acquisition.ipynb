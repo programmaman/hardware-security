{
 "cells": [
  {
   "cell_type": "markdown",
   "id": "b52d1a25",
   "metadata": {},
   "source": [
    "__Lab 03 - Acquisition__\n",
    "\n",
    "Student Names: [insert your full name(s) here]\n",
    "\n",
    "Group Number: [insert your group number as in Canvas here]"
   ]
  },
  {
   "cell_type": "markdown",
   "id": "ba673af0",
   "metadata": {},
   "source": [
    "# Setup"
   ]
  },
  {
   "cell_type": "markdown",
   "id": "26c86493",
   "metadata": {},
   "source": [
    "## FPGA Cofigurations & Import Python Libraries"
   ]
  },
  {
   "cell_type": "markdown",
   "id": "d0a0314e",
   "metadata": {},
   "source": [
    "These are the FPGA configurations need when programming it with the bitstream.\n",
    "\n",
    "BITSTREAM_FILENAME is the path and filename to the Bitstream to program the FPGA with.\n",
    "\n",
    "Also, we import the Python libraries here."
   ]
  },
  {
   "cell_type": "code",
   "execution_count": 1,
   "id": "c6bb9e8b",
   "metadata": {},
   "outputs": [
    {
     "name": "stdout",
     "output_type": "stream",
     "text": [
      "✔️ OK to continue!\n"
     ]
    }
   ],
   "source": [
    "import numpy as np\n",
    "import math\n",
    "import serial\n",
    "import serial.tools.list_ports\n",
    "from tqdm import tnrange\n",
    "\n",
    "DEVICE_NAME = \"CmodS7\"\n",
    "DEVICE_ID   = 0\n",
    "# BITSTREAM_FILENAME = \"../Hardware/RO_LFSR_TRNG.bit\"\n",
    "BITSTREAM_FILENAME = \"../Hardware/GARO_TRNG.bit\"\n",
    "\n",
    "print(\"✔️ OK to continue!\")"
   ]
  },
  {
   "cell_type": "markdown",
   "id": "92a57475",
   "metadata": {},
   "source": [
    "## Connect to FPGA"
   ]
  },
  {
   "cell_type": "markdown",
   "id": "cb0e65b2",
   "metadata": {},
   "source": [
    "We need to make sure the FPGA is connected.\n",
    "\n",
    "\"%%bash\" or \"!\" indicated that the following code in that cell will run with \"bash\" instead of python."
   ]
  },
  {
   "cell_type": "code",
   "execution_count": 2,
   "id": "a4c886e8",
   "metadata": {
    "scrolled": false
   },
   "outputs": [
    {
     "name": "stdout",
     "output_type": "stream",
     "text": [
      "Found 1 device(s)\n",
      "\n",
      "Device: CmodS7\n",
      "    Device Transport Type: 00020001 (USB)\n",
      "    Product Name:          Digilent Cmod S7\n",
      "    User Name:             CmodS7\n",
      "    Serial Number:         210376AFE086\n",
      "✔️ OK to continue!\n"
     ]
    }
   ],
   "source": [
    "!djtgcfg enum\n",
    "\n",
    "print(\"✔️ OK to continue!\")"
   ]
  },
  {
   "cell_type": "markdown",
   "id": "752d048d",
   "metadata": {},
   "source": [
    "Make sure to that it says \"Found 1 device(s)\" (or more) and the device name match with \"DEVICE_NAME\" from section 1.1"
   ]
  },
  {
   "cell_type": "markdown",
   "id": "4f6c6763",
   "metadata": {},
   "source": [
    "Also, we can verify the device ID (DEVICE_ID) from section 1.1 with the following code.\n",
    "\n",
    "(DEVICE_ID should be 0 for CmodS7, unless you have other FPGA connected)"
   ]
  },
  {
   "cell_type": "code",
   "execution_count": 3,
   "id": "3bbf0b06",
   "metadata": {
    "scrolled": true
   },
   "outputs": [
    {
     "name": "stdout",
     "output_type": "stream",
     "text": [
      "Initializing scan chain...\n",
      "Found Device ID: 037c4093\n",
      "\n",
      "Found 1 device(s):\n",
      "    Device 0: XC7S25\n"
     ]
    }
   ],
   "source": [
    "%%bash -s \"$DEVICE_NAME\"\n",
    "djtgcfg init -d $1"
   ]
  },
  {
   "cell_type": "markdown",
   "id": "31d10f38",
   "metadata": {},
   "source": [
    "The actual device ID is located in the list at the bottom. It should say, for example:\n",
    "\n",
    "<span class=\"mark\">Found 1 device(s):</span> <br>\n",
    "<pre> <span class=\"mark\">Device 0: XC7S25</span>\n",
    "\n",
    "The 0 here is the Device ID for \"XC7S25\" (i.e., CmodS7)."
   ]
  },
  {
   "cell_type": "markdown",
   "id": "961b5c4b",
   "metadata": {},
   "source": [
    "## Program the FPGA"
   ]
  },
  {
   "cell_type": "markdown",
   "id": "f3b11c04",
   "metadata": {},
   "source": [
    "Program the FPGA with the bitstream.\n",
    "\n",
    "Also, make sure the BITSTREAM_FILENAME in section 1.1 matches with bitstream you want to programm the FPGA with."
   ]
  },
  {
   "cell_type": "code",
   "execution_count": 4,
   "id": "77b0344c",
   "metadata": {
    "scrolled": true
   },
   "outputs": [
    {
     "name": "stdout",
     "output_type": "stream",
     "text": [
      "Programming device. Do not touch your board. This may take a few minutes...\n",
      "Programming succeeded.\n"
     ]
    }
   ],
   "source": [
    "%%bash -s \"$DEVICE_NAME\" \"$DEVICE_ID\" \"$BITSTREAM_FILENAME\"\n",
    "djtgcfg prog -d $1 -i $2 -f $3"
   ]
  },
  {
   "cell_type": "markdown",
   "id": "feb3ac5e",
   "metadata": {},
   "source": [
    "## Setup the USB serial communication port"
   ]
  },
  {
   "cell_type": "markdown",
   "id": "f19514d5",
   "metadata": {},
   "source": [
    "Now, we can setup PySerial.\n",
    "\n",
    "First, let's identify the USB port name where the FPGA is connected to. Use the function below to print a list of all your ports."
   ]
  },
  {
   "cell_type": "code",
   "execution_count": 5,
   "id": "c435f298",
   "metadata": {
    "scrolled": true
   },
   "outputs": [
    {
     "name": "stdout",
     "output_type": "stream",
     "text": [
      "--- PORTS LIST ---\n",
      "/dev/ttyUSB1 : Digilent Adept USB Device - Digilent Adept USB Device\n",
      "✔️ OK to continue!\n"
     ]
    }
   ],
   "source": [
    "def print_ports():\n",
    "    portsList = serial.tools.list_ports.comports()\n",
    "\n",
    "    print(\"--- PORTS LIST ---\")\n",
    "    for p in sorted(portsList):\n",
    "        # first prints the port, then the device product\n",
    "        print(f'{p[0]} : {p[1]}')\n",
    "\n",
    "print_ports()\n",
    "\n",
    "print(\"✔️ OK to continue!\")"
   ]
  },
  {
   "cell_type": "code",
   "execution_count": 6,
   "id": "5e5bb2da",
   "metadata": {},
   "outputs": [
    {
     "name": "stdout",
     "output_type": "stream",
     "text": [
      "✔️ OK to continue!\n"
     ]
    }
   ],
   "source": [
    "# connect to COM port, set baudrate\n",
    "port = \"/dev/ttyUSB1\"\n",
    "boudrate = 115200\n",
    "ser = serial.Serial(port, boudrate)\n",
    "\n",
    "print(\"✔️ OK to continue!\")"
   ]
  },
  {
   "cell_type": "markdown",
   "id": "a9e20af8",
   "metadata": {},
   "source": [
    "# Send & Collect Data"
   ]
  },
  {
   "cell_type": "markdown",
   "id": "ad1a997f",
   "metadata": {},
   "source": [
    "Send and collect the data from the FPGA as requested in the lab manual. Make sure to format your data correctly.\n",
    "\n",
    "Note: your final collected data should in `bytearray` (or `bytes`) type (i.e., raw bytes)"
   ]
  },
  {
   "cell_type": "code",
   "execution_count": 7,
   "id": "62228ce7",
   "metadata": {},
   "outputs": [
    {
     "name": "stdout",
     "output_type": "stream",
     "text": [
      "✔️ OK to continue!\n"
     ]
    }
   ],
   "source": [
    "# Function: get_1resp()\n",
    "#   Input: 'ser' - serial connection to FPGA\n",
    "#   Input: 'in_hex' - an input hex string to send to the FPGA\n",
    "#   Input: 'resp_size' - size of the output response in bytes\n",
    "#   Output: 'r_bin' - respective binary string response of size 'resp_size' bytes (8*resp_size bits).\n",
    "\n",
    "def get_resp(ser: serial.Serial, num_responses: int) -> str:\n",
    "\n",
    "    resp_size = 1 # read one byte at a time\n",
    "    number_of_responses = num_responses\n",
    "    in_bytes = num_responses.to_bytes(3, 'big')\n",
    "    \n",
    "\n",
    "    \n",
    "\n",
    "    # send bytes to FPGA\n",
    "    ser.write(in_bytes)\n",
    "    \n",
    "    while ser.in_waiting < 1:\n",
    "        pass\n",
    "        \n",
    "    r_bytes = ser.read(1)\n",
    "    read_count = 1\n",
    "\n",
    "    while (True):\n",
    "        if ser.in_waiting >= 1:\n",
    "            r_bytes = r_bytes + ser.read(1)\n",
    "            read_count = read_count + 1\n",
    "        if ser.in_waiting < 1 and read_count == number_of_responses:\n",
    "            print(\"All bytes read.\")\n",
    "            break\n",
    "            \n",
    "    \n",
    "    return r_bytes\n",
    "        \n",
    "     \n",
    "\n",
    "print(\"✔️ OK to continue!\")"
   ]
  },
  {
   "cell_type": "code",
   "execution_count": 8,
   "id": "6287bf1b",
   "metadata": {},
   "outputs": [
    {
     "name": "stdout",
     "output_type": "stream",
     "text": [
      "All bytes read.\n",
      "1250000\n"
     ]
    }
   ],
   "source": [
    "random_bytes = get_resp(ser, 1250000)\n",
    "print(len(random_bytes))\n"
   ]
  },
  {
   "cell_type": "markdown",
   "id": "bd50f9f9",
   "metadata": {},
   "source": [
    "# Save Data"
   ]
  },
  {
   "cell_type": "markdown",
   "id": "7cb54131",
   "metadata": {},
   "source": [
    "Save your __raw bytes__ into a file. `\"wb\"` lets you write to the file with raw bytes."
   ]
  },
  {
   "cell_type": "code",
   "execution_count": 9,
   "id": "df61aaf9",
   "metadata": {},
   "outputs": [],
   "source": [
    "# Open file to write raw bytes\n",
    "filename = \"../Data/GARO_10M.bin\"\n",
    "f = open(filename, \"wb\")\n",
    "f.write(random_bytes)\n",
    "# Remember to close the file at the end\n",
    "f.close()"
   ]
  },
  {
   "cell_type": "code",
   "execution_count": null,
   "id": "c107f5fd",
   "metadata": {},
   "outputs": [],
   "source": []
  }
 ],
 "metadata": {
  "kernelspec": {
   "display_name": "Python 3 (ipykernel)",
   "language": "python",
   "name": "python3"
  },
  "language_info": {
   "codemirror_mode": {
    "name": "ipython",
    "version": 3
   },
   "file_extension": ".py",
   "mimetype": "text/x-python",
   "name": "python",
   "nbconvert_exporter": "python",
   "pygments_lexer": "ipython3",
   "version": "3.9.5"
  },
  "toc": {
   "base_numbering": 1,
   "nav_menu": {},
   "number_sections": true,
   "sideBar": true,
   "skip_h1_title": false,
   "title_cell": "Table of Contents",
   "title_sidebar": "Contents",
   "toc_cell": false,
   "toc_position": {},
   "toc_section_display": true,
   "toc_window_display": false
  },
  "varInspector": {
   "cols": {
    "lenName": 16,
    "lenType": 16,
    "lenVar": 40
   },
   "kernels_config": {
    "python": {
     "delete_cmd_postfix": "",
     "delete_cmd_prefix": "del ",
     "library": "var_list.py",
     "varRefreshCmd": "print(var_dic_list())"
    },
    "r": {
     "delete_cmd_postfix": ") ",
     "delete_cmd_prefix": "rm(",
     "library": "var_list.r",
     "varRefreshCmd": "cat(var_dic_list()) "
    }
   },
   "position": {
    "height": "326.836px",
    "left": "1152px",
    "right": "20px",
    "top": "130px",
    "width": "350px"
   },
   "types_to_exclude": [
    "module",
    "function",
    "builtin_function_or_method",
    "instance",
    "_Feature"
   ],
   "window_display": false
  }
 },
 "nbformat": 4,
 "nbformat_minor": 5
}
