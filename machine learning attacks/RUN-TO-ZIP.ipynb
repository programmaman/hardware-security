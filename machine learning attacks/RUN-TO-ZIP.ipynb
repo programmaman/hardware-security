{
 "cells": [
  {
   "cell_type": "markdown",
   "id": "27249bb5",
   "metadata": {},
   "source": [
    "# ZIP or Compress file\n",
    "\n",
    "Run this code to zip (compress) all your files from this directory. The zip file name will be the same as the current directory"
   ]
  },
  {
   "cell_type": "code",
   "execution_count": 1,
   "id": "b8e451d7",
   "metadata": {
    "code_folding": []
   },
   "outputs": [
    {
     "name": "stdout",
     "output_type": "stream",
     "text": [
      "updating: Challenges/ (stored 0%)\n",
      "updating: Challenges/challenges_05k.npz (deflated 1%)\n",
      "updating: Challenges/challenges_50k.npz (deflated 1%)\n",
      "updating: Challenges/challenges_10k.npz (deflated 1%)\n",
      "updating: Code/ (stored 0%)\n",
      "updating: Code/modelPUF.py (deflated 70%)\n",
      "updating: Code/Lab-02-PUF-Modeling.ipynb (deflated 50%)\n",
      "updating: Figures/ (stored 0%)\n",
      "updating: RUN-TO-ZIP.ipynb (deflated 75%)\n",
      "updating: Responses/ (stored 0%)\n",
      "updating: Code/.ipynb_checkpoints/ (stored 0%)\n",
      "updating: Code/.ipynb_checkpoints/Lab-02-PUF-Modeling-checkpoint.ipynb (deflated 67%)\n",
      "updating: Code/__pycache__/ (stored 0%)\n",
      "updating: Code/__pycache__/modelPUF.cpython-39.pyc (deflated 53%)\n",
      "updating: Figures/.ipynb_checkpoints/ (stored 0%)\n",
      "updating: Figures/accuracy_vs_percent_trained_fpga0.pdf (deflated 31%)\n",
      "updating: Figures/4bit_accuracy_vs_percent_trained_fpga1.pdf (deflated 31%)\n",
      "updating: Figures/accuracy_vs_percent_trained_fpga1.pdf (deflated 31%)\n",
      "updating: Figures/2bit_accuracy_vs_percent_trained_fpga0.pdf (deflated 31%)\n",
      "updating: Figures/2bit_accuracy_vs_percent_trained_fpga1.pdf (deflated 31%)\n",
      "updating: Figures/4bit_accuracy_vs_percent_trained_fpga0.pdf (deflated 31%)\n",
      "updating: Responses/fpga0_resp1_bitfile1_alec_50k_2bit_xor.npz (deflated 94%)\n",
      "updating: Responses/.ipynb_checkpoints/ (stored 0%)\n",
      "updating: Responses/fpga1_resp1_bitfile1_jasmin_50k_2bit_xor.npz (deflated 94%)\n",
      "updating: Responses/fpga1_resp1_bitfile1_jasmin_50k_4bit_xor.npz (deflated 94%)\n",
      "updating: Responses/fpga0_resp1_bitfile1_alec_50k_4bit_xor.npz (deflated 94%)\n",
      "updating: Responses/fpga0_resp1_bitfile1_alec_50k.npz (deflated 95%)\n",
      "updating: Responses/fpga1_resp1_bitfile1_jasmin_50k.npz (deflated 95%)\n",
      "updating: Code/Lab-02-XOR-APUF-Modeling.ipynb (deflated 52%)\n",
      "updating: Code/.ipynb_checkpoints/Lab-02-XOR-APUF-Modeling-checkpoint.ipynb (deflated 21%)\n",
      "updating: Code/.ipynb_checkpoints/Lab-02-Scikit-Modeling-checkpoint.ipynb (deflated 21%)\n",
      "updating: Code/Lab-02-Scikit-Modeling.ipynb (deflated 65%)\n",
      "  adding: Figures/2bit_accuracy_vs_percent_trained_fpga0_scikit.pdf (deflated 31%)\n",
      "  adding: Figures/4bit_accuracy_vs_percent_trained_fpga0_scikit.pdf (deflated 31%)\n",
      "  adding: Figures/accuracy_vs_percent_trained_fpga1_scikit.pdf (deflated 31%)\n",
      "  adding: Figures/2bit_accuracy_vs_percent_trained_fpga1_scikit.pdf (deflated 31%)\n",
      "  adding: Figures/accuracy_vs_percent_trained_fpga0_scikit.pdf (deflated 31%)\n",
      "  adding: Figures/4bit_accuracy_vs_percent_trained_fpga1_scikit.pdf (deflated 31%)\n"
     ]
    }
   ],
   "source": [
    "#\n",
    "#RUN THIS CELL TO ZIP ALL YOUR FILES FROM THIS DIRECTORY\n",
    "!f=\"$(basename $PWD).zip\" && zip -r $f * -x $f"
   ]
  },
  {
   "cell_type": "markdown",
   "id": "b4ae6ae9",
   "metadata": {
    "heading_collapsed": true
   },
   "source": [
    "# UNZIP or Decompress file\n",
    "\n",
    "Run this code to unzip (decompress) your zip file. The zip file must have the same name as the current directory."
   ]
  },
  {
   "cell_type": "code",
   "execution_count": null,
   "id": "3930d5bb",
   "metadata": {
    "hidden": true
   },
   "outputs": [],
   "source": [
    "#Run this to unzip (decompress) your file\n",
    "!f=\"$(basename $PWD).zip\" && unzip -o $f"
   ]
  },
  {
   "cell_type": "code",
   "execution_count": null,
   "id": "010fa5ca",
   "metadata": {
    "hidden": true
   },
   "outputs": [],
   "source": []
  }
 ],
 "metadata": {
  "kernelspec": {
   "display_name": "Python 3 (ipykernel)",
   "language": "python",
   "name": "python3"
  },
  "language_info": {
   "codemirror_mode": {
    "name": "ipython",
    "version": 3
   },
   "file_extension": ".py",
   "mimetype": "text/x-python",
   "name": "python",
   "nbconvert_exporter": "python",
   "pygments_lexer": "ipython3",
   "version": "3.9.5"
  },
  "toc": {
   "base_numbering": 1,
   "nav_menu": {},
   "number_sections": true,
   "sideBar": true,
   "skip_h1_title": false,
   "title_cell": "Table of Contents",
   "title_sidebar": "Contents",
   "toc_cell": false,
   "toc_position": {},
   "toc_section_display": true,
   "toc_window_display": false
  },
  "varInspector": {
   "cols": {
    "lenName": 16,
    "lenType": 16,
    "lenVar": 40
   },
   "kernels_config": {
    "python": {
     "delete_cmd_postfix": "",
     "delete_cmd_prefix": "del ",
     "library": "var_list.py",
     "varRefreshCmd": "print(var_dic_list())"
    },
    "r": {
     "delete_cmd_postfix": ") ",
     "delete_cmd_prefix": "rm(",
     "library": "var_list.r",
     "varRefreshCmd": "cat(var_dic_list()) "
    }
   },
   "types_to_exclude": [
    "module",
    "function",
    "builtin_function_or_method",
    "instance",
    "_Feature"
   ],
   "window_display": false
  }
 },
 "nbformat": 4,
 "nbformat_minor": 5
}
