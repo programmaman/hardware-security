{
 "cells": [
  {
   "cell_type": "markdown",
   "id": "0819c8c4",
   "metadata": {},
   "source": [
    "__Lab 02 - PUF Modeling__\n",
    "\n",
    "Student Names: [insert your full name(s) here]\n",
    "\n",
    "Group Number: [insert your group number as in Canvas here]"
   ]
  },
  {
   "cell_type": "markdown",
   "id": "4ef85620",
   "metadata": {},
   "source": [
    "# Setup"
   ]
  },
  {
   "cell_type": "markdown",
   "id": "ece1e6d6",
   "metadata": {},
   "source": [
    "Below will import the `modelPUF` modules to setup the CRPs and make a PUF model from the `modelPUF.py` script.\n",
    "\n",
    "Also, add any other library here that you may need to import."
   ]
  },
  {
   "cell_type": "code",
   "execution_count": 3,
   "id": "f8e01e04",
   "metadata": {
    "scrolled": true
   },
   "outputs": [
    {
     "name": "stderr",
     "output_type": "stream",
     "text": [
      "2022-10-09 20:31:40.098180: W tensorflow/stream_executor/platform/default/dso_loader.cc:64] Could not load dynamic library 'libcudart.so.11.0'; dlerror: libcudart.so.11.0: cannot open shared object file: No such file or directory\n",
      "2022-10-09 20:31:40.098201: I tensorflow/stream_executor/cuda/cudart_stub.cc:29] Ignore above cudart dlerror if you do not have a GPU set up on your machine.\n"
     ]
    }
   ],
   "source": [
    "from modelPUF import *\n",
    "import numpy as np\n",
    "import scipy.spatial as spatial\n",
    "import matplotlib.pyplot as plt\n"
   ]
  },
  {
   "cell_type": "markdown",
   "id": "b20b7981",
   "metadata": {},
   "source": [
    "# PUF Modeling"
   ]
  },
  {
   "cell_type": "markdown",
   "id": "cf00548a",
   "metadata": {},
   "source": [
    "We will be modeling each of your FPGAs. Go through the `modelPUF.py` script and see how to interface with the model. You need to model it using the resp files from Lab 01, select one (any) for each FPGA."
   ]
  },
  {
   "cell_type": "markdown",
   "id": "5a490fdd",
   "metadata": {},
   "source": [
    "Since we are going to train and test the model many times, make a function that will setup the CRP, model, train, test, and get it's accuracy for a given dataset percent `p` for training.\n",
    "\n",
    "__complete this__"
   ]
  },
  {
   "cell_type": "code",
   "execution_count": 4,
   "id": "170713e9",
   "metadata": {
    "scrolled": true
   },
   "outputs": [],
   "source": [
    "'''\n",
    "Function: get_accuracy()\n",
    "  Input: 'cfile' - challanges file name\n",
    "  Input: 'rfile' - responses file name\n",
    "  Input: 'p' - percentage of data to use for training\n",
    "  Output: 'accuracy' - model accuracy\n",
    "'''\n",
    "\n",
    "def get_accuracy(cfile: str, rfile: str, p: float) -> float:\n",
    "    crpData = ChallengeResponseSet(cfile, rfile)\n",
    "    crpData.train_test_split(p)\n",
    "    pufmodel = pufModel(crpData)\n",
    "    pufmodel.train(crpData)\n",
    "    accuracy = pufmodel.test(crpData)\n",
    "    accuracy2 = pufmodel.test(crpData)\n",
    "    accuracy3 = pufmodel.test(crpData)\n",
    "    accuracy4 = pufmodel.test(crpData)\n",
    "    accuracy5 = pufmodel.test(crpData)\n",
    "    return accuracy, accuracy2, accuracy3, accuracy4, accuracy5\n",
    "\n",
    "\n"
   ]
  },
  {
   "cell_type": "markdown",
   "id": "8843340c",
   "metadata": {},
   "source": [
    "Test your function. Note: this may take a while, so test with a small file (such as the 5k)."
   ]
  },
  {
   "cell_type": "code",
   "execution_count": 5,
   "id": "254b73a4",
   "metadata": {
    "scrolled": false
   },
   "outputs": [
    {
     "name": "stderr",
     "output_type": "stream",
     "text": [
      "2022-10-09 20:31:46.134672: W tensorflow/stream_executor/platform/default/dso_loader.cc:64] Could not load dynamic library 'libcuda.so.1'; dlerror: libcuda.so.1: cannot open shared object file: No such file or directory\n",
      "2022-10-09 20:31:46.134697: W tensorflow/stream_executor/cuda/cuda_driver.cc:269] failed call to cuInit: UNKNOWN ERROR (303)\n",
      "2022-10-09 20:31:46.134712: I tensorflow/stream_executor/cuda/cuda_diagnostics.cc:156] kernel driver does not appear to be running on this host (PHS-VM): /proc/driver/nvidia/version does not exist\n",
      "2022-10-09 20:31:46.135384: I tensorflow/core/platform/cpu_feature_guard.cc:193] This TensorFlow binary is optimized with oneAPI Deep Neural Network Library (oneDNN) to use the following CPU instructions in performance-critical operations:  AVX2\n",
      "To enable them in other operations, rebuild TensorFlow with the appropriate compiler flags.\n"
     ]
    },
    {
     "name": "stdout",
     "output_type": "stream",
     "text": [
      "Accuracy on 25000 unseen challenges is: 0.7138400077819824\n",
      "Accuracy on 25000 unseen challenges is: 0.7138400077819824\n",
      "Accuracy on 25000 unseen challenges is: 0.7138400077819824\n",
      "Accuracy on 25000 unseen challenges is: 0.7138400077819824\n",
      "Accuracy on 25000 unseen challenges is: 0.7138400077819824\n"
     ]
    },
    {
     "data": {
      "text/plain": [
       "(0.7138400077819824,\n",
       " 0.7138400077819824,\n",
       " 0.7138400077819824,\n",
       " 0.7138400077819824,\n",
       " 0.7138400077819824)"
      ]
     },
     "execution_count": 5,
     "metadata": {},
     "output_type": "execute_result"
    }
   ],
   "source": [
    "challenges = \"../Challenges/challenges_50k.npz\"\n",
    "response_fpga0 = \"../Responses/fpga0_resp1_bitfile1_alec_50k.npz\"\n",
    "response_fpga1 = \"../Responses/fpga1_resp1_bitfile1_jasmin_50k.npz\"\n",
    "\n",
    " \n",
    "get_accuracy(challenges, response_fpga0, 0.5)"
   ]
  },
  {
   "cell_type": "markdown",
   "id": "d5add913",
   "metadata": {},
   "source": [
    "Now, lets use this function to generate model the PUFs and generate accuracy results for varying `p` values. Make sure to save the list of accuracies for each FPGA (total of 2 lists if working in pairs).\n",
    "\n",
    "The implementation this is up to you. Hint: iteration"
   ]
  },
  {
   "cell_type": "code",
   "execution_count": 4,
   "id": "6862321f",
   "metadata": {
    "scrolled": false
   },
   "outputs": [
    {
     "name": "stdout",
     "output_type": "stream",
     "text": [
      "Accuracy of default crp pairs\n",
      "Accuracy on 47500 unseen challenges is: 0.6527578830718994\n",
      "Accuracy on 47500 unseen challenges is: 0.6407579183578491\n",
      "Accuracy on 47500 unseen challenges is: 0.6533684134483337\n",
      "WARNING:tensorflow:5 out of the last 5 calls to <function Model.make_predict_function.<locals>.predict_function at 0x7f8ba1b77700> triggered tf.function retracing. Tracing is expensive and the excessive number of tracings could be due to (1) creating @tf.function repeatedly in a loop, (2) passing tensors with different shapes, (3) passing Python objects instead of tensors. For (1), please define your @tf.function outside of the loop. For (2), @tf.function has reduce_retracing=True option that can avoid unnecessary retracing. For (3), please refer to https://www.tensorflow.org/guide/function#controlling_retracing and https://www.tensorflow.org/api_docs/python/tf/function for  more details.\n",
      "Accuracy on 47500 unseen challenges is: 0.6346736550331116\n",
      "WARNING:tensorflow:6 out of the last 6 calls to <function Model.make_predict_function.<locals>.predict_function at 0x7f8ba1b87700> triggered tf.function retracing. Tracing is expensive and the excessive number of tracings could be due to (1) creating @tf.function repeatedly in a loop, (2) passing tensors with different shapes, (3) passing Python objects instead of tensors. For (1), please define your @tf.function outside of the loop. For (2), @tf.function has reduce_retracing=True option that can avoid unnecessary retracing. For (3), please refer to https://www.tensorflow.org/guide/function#controlling_retracing and https://www.tensorflow.org/api_docs/python/tf/function for  more details.\n",
      "Accuracy on 47500 unseen challenges is: 0.6525473594665527\n",
      "Accuracy on 47500 unseen challenges is: 0.6206526160240173\n",
      "Accuracy on 45000 unseen challenges is: 0.6926222443580627\n",
      "Accuracy on 45000 unseen challenges is: 0.6543333530426025\n"
     ]
    },
    {
     "name": "stderr",
     "output_type": "stream",
     "text": [
      "2022-10-01 06:58:30.710091: W tensorflow/core/data/root_dataset.cc:247] Optimization loop failed: CANCELLED: Operation was cancelled\n"
     ]
    },
    {
     "name": "stdout",
     "output_type": "stream",
     "text": [
      "Accuracy on 45000 unseen challenges is: 0.634933352470398\n",
      "Accuracy on 45000 unseen challenges is: 0.6557999849319458\n",
      "Accuracy on 45000 unseen challenges is: 0.6480000019073486\n",
      "Accuracy on 45000 unseen challenges is: 0.6336444616317749\n",
      "Accuracy on 42500 unseen challenges is: 0.6647999882698059\n",
      "Accuracy on 42500 unseen challenges is: 0.6553176641464233\n",
      "Accuracy on 42500 unseen challenges is: 0.6850352883338928\n",
      "Accuracy on 42500 unseen challenges is: 0.6632470488548279\n",
      "Accuracy on 42500 unseen challenges is: 0.7029411792755127\n",
      "Accuracy on 42500 unseen challenges is: 0.6626823544502258\n",
      "Accuracy on 40000 unseen challenges is: 0.7030249834060669\n",
      "Accuracy on 40000 unseen challenges is: 0.6859250068664551\n",
      "Accuracy on 40000 unseen challenges is: 0.7028499841690063\n",
      "Accuracy on 40000 unseen challenges is: 0.692300021648407\n",
      "Accuracy on 40000 unseen challenges is: 0.6664749979972839\n",
      "Accuracy on 40000 unseen challenges is: 0.6823499798774719\n",
      "Accuracy on 37500 unseen challenges is: 0.7063466906547546\n",
      "Accuracy on 37500 unseen challenges is: 0.6858400106430054\n",
      "Accuracy on 37500 unseen challenges is: 0.6641866564750671\n",
      "Accuracy on 37500 unseen challenges is: 0.7011733055114746\n",
      "Accuracy on 37500 unseen challenges is: 0.7084800004959106\n",
      "Accuracy on 37500 unseen challenges is: 0.6843466758728027\n",
      "Accuracy on 35000 unseen challenges is: 0.6868571639060974\n",
      "Accuracy on 35000 unseen challenges is: 0.6985428333282471\n",
      "Accuracy on 35000 unseen challenges is: 0.7108285427093506\n",
      "Accuracy on 35000 unseen challenges is: 0.6723142862319946\n",
      "Accuracy on 35000 unseen challenges is: 0.7089142799377441\n",
      "Accuracy on 35000 unseen challenges is: 0.6698856949806213\n",
      "Accuracy on 32500 unseen challenges is: 0.6538461446762085\n",
      "Accuracy on 32500 unseen challenges is: 0.692799985408783\n",
      "Accuracy on 32500 unseen challenges is: 0.7093538641929626\n",
      "Accuracy on 32500 unseen challenges is: 0.6841230988502502\n",
      "Accuracy on 32500 unseen challenges is: 0.7090153694152832\n",
      "Accuracy on 32500 unseen challenges is: 0.6979384422302246\n",
      "Accuracy on 30000 unseen challenges is: 0.713366687297821\n",
      "Accuracy on 30000 unseen challenges is: 0.6685333251953125\n",
      "Accuracy on 30000 unseen challenges is: 0.6549333333969116\n",
      "Accuracy on 30000 unseen challenges is: 0.6322333216667175\n",
      "Accuracy on 30000 unseen challenges is: 0.7113666534423828\n",
      "Accuracy on 30000 unseen challenges is: 0.6633666753768921\n",
      "Accuracy on 27500 unseen challenges is: 0.7100727558135986\n",
      "Accuracy on 27500 unseen challenges is: 0.6838909387588501\n",
      "Accuracy on 27500 unseen challenges is: 0.7101818323135376\n",
      "Accuracy on 27500 unseen challenges is: 0.688909113407135\n",
      "Accuracy on 27500 unseen challenges is: 0.6654182076454163\n",
      "Accuracy on 27500 unseen challenges is: 0.6716727018356323\n",
      "Accuracy on 25000 unseen challenges is: 0.7080399990081787\n",
      "Accuracy on 25000 unseen challenges is: 0.699400007724762\n",
      "Accuracy on 25000 unseen challenges is: 0.7085999846458435\n",
      "Accuracy on 25000 unseen challenges is: 0.6960399746894836\n",
      "Accuracy on 25000 unseen challenges is: 0.6686800122261047\n",
      "Accuracy on 25000 unseen challenges is: 0.6685199737548828\n",
      "Accuracy on 22500 unseen challenges is: 0.6924444437026978\n",
      "Accuracy on 22500 unseen challenges is: 0.7020000219345093\n",
      "Accuracy on 22500 unseen challenges is: 0.7099111080169678\n",
      "Accuracy on 22500 unseen challenges is: 0.6836444735527039\n",
      "Accuracy on 22500 unseen challenges is: 0.663777768611908\n",
      "Accuracy on 22500 unseen challenges is: 0.694266676902771\n",
      "Accuracy on 20000 unseen challenges is: 0.7049999833106995\n",
      "Accuracy on 20000 unseen challenges is: 0.6981499791145325\n",
      "Accuracy on 20000 unseen challenges is: 0.7128999829292297\n",
      "Accuracy on 20000 unseen challenges is: 0.6932500004768372\n",
      "Accuracy on 20000 unseen challenges is: 0.7077999711036682\n",
      "Accuracy on 20000 unseen challenges is: 0.6946499943733215\n",
      "Accuracy on 17500 unseen challenges is: 0.6703428626060486\n",
      "Accuracy on 17500 unseen challenges is: 0.7040571570396423\n",
      "Accuracy on 17500 unseen challenges is: 0.7058857083320618\n",
      "Accuracy on 17500 unseen challenges is: 0.7009714245796204\n",
      "Accuracy on 17500 unseen challenges is: 0.7105143070220947\n",
      "Accuracy on 17500 unseen challenges is: 0.6967999935150146\n",
      "Accuracy on 15000 unseen challenges is: 0.7096666693687439\n",
      "Accuracy on 15000 unseen challenges is: 0.6998000144958496\n",
      "Accuracy on 15000 unseen challenges is: 0.7075999975204468\n",
      "Accuracy on 15000 unseen challenges is: 0.6717333197593689\n",
      "Accuracy on 15000 unseen challenges is: 0.6877333521842957\n",
      "Accuracy on 15000 unseen challenges is: 0.6838666796684265\n",
      "Accuracy on 12500 unseen challenges is: 0.6682400107383728\n",
      "Accuracy on 12500 unseen challenges is: 0.7004799842834473\n",
      "Accuracy on 12500 unseen challenges is: 0.6646400094032288\n",
      "Accuracy on 12500 unseen challenges is: 0.6647199988365173\n",
      "Accuracy on 12500 unseen challenges is: 0.6856799721717834\n",
      "Accuracy on 12500 unseen challenges is: 0.6968799829483032\n"
     ]
    },
    {
     "name": "stderr",
     "output_type": "stream",
     "text": [
      "2022-10-01 07:04:57.730779: W tensorflow/core/data/root_dataset.cc:247] Optimization loop failed: CANCELLED: Operation was cancelled\n"
     ]
    },
    {
     "name": "stdout",
     "output_type": "stream",
     "text": [
      "Accuracy on 10000 unseen challenges is: 0.664900004863739\n",
      "Accuracy on 10000 unseen challenges is: 0.6930999755859375\n",
      "Accuracy on 10000 unseen challenges is: 0.6678000092506409\n",
      "Accuracy on 10000 unseen challenges is: 0.6672999858856201\n",
      "Accuracy on 10000 unseen challenges is: 0.7127000093460083\n",
      "Accuracy on 10000 unseen challenges is: 0.699400007724762\n",
      "Accuracy on 7500 unseen challenges is: 0.7190666794776917\n",
      "Accuracy on 7500 unseen challenges is: 0.6815999746322632\n",
      "Accuracy on 7500 unseen challenges is: 0.7135999798774719\n"
     ]
    },
    {
     "name": "stderr",
     "output_type": "stream",
     "text": [
      "2022-10-01 07:06:07.017600: W tensorflow/core/data/root_dataset.cc:247] Optimization loop failed: CANCELLED: Operation was cancelled\n"
     ]
    },
    {
     "name": "stdout",
     "output_type": "stream",
     "text": [
      "Accuracy on 7500 unseen challenges is: 0.689466655254364\n"
     ]
    },
    {
     "name": "stderr",
     "output_type": "stream",
     "text": [
      "2022-10-01 07:06:14.735780: W tensorflow/core/data/root_dataset.cc:247] Optimization loop failed: CANCELLED: Operation was cancelled\n"
     ]
    },
    {
     "name": "stdout",
     "output_type": "stream",
     "text": [
      "Accuracy on 7500 unseen challenges is: 0.6922666430473328\n",
      "Accuracy on 7500 unseen challenges is: 0.671999990940094\n",
      "Accuracy on 5000 unseen challenges is: 0.7138000130653381\n",
      "Accuracy on 5000 unseen challenges is: 0.7024000287055969\n",
      "Accuracy on 5000 unseen challenges is: 0.7116000056266785\n",
      "Accuracy on 5000 unseen challenges is: 0.6859999895095825\n",
      "Accuracy on 5000 unseen challenges is: 0.6895999908447266\n",
      "Accuracy on 5000 unseen challenges is: 0.6818000078201294\n",
      "Accuracy on 2500 unseen challenges is: 0.7251999974250793\n",
      "Accuracy on 2500 unseen challenges is: 0.6868000030517578\n",
      "Accuracy on 2500 unseen challenges is: 0.6955999732017517\n",
      "Accuracy on 2500 unseen challenges is: 0.6959999799728394\n",
      "Accuracy on 2500 unseen challenges is: 0.7027999758720398\n",
      "Accuracy on 2500 unseen challenges is: 0.7088000178337097\n"
     ]
    }
   ],
   "source": [
    "challenges = \"../Challenges/challenges_50k.npz\"\n",
    "response_fpga0 = \"../Responses/fpga0_resp1_bitfile1_alec_50k.npz\"\n",
    "response_fpga1 = \"../Responses/fpga1_resp1_bitfile1_jasmin_50k.npz\"\n",
    "\n",
    "\n",
    "#Experiment 1\n",
    "accuracy_list_fpga0_exp1 = []\n",
    "accuracy_list_fpga1_exp1 = []\n",
    "\n",
    "\n",
    "#Experiment 2\n",
    "accuracy_list_fpga0_exp2 = []\n",
    "accuracy_list_fpga1_exp2 = []\n",
    "\n",
    "\n",
    "#Experiment 3\n",
    "accuracy_list_fpga0_exp3 = []\n",
    "accuracy_list_fpga1_exp3 = []\n",
    "\n",
    "\n",
    "i=1\n",
    "print(\"Accuracy of default crp pairs\")\n",
    "while i <= 19:\n",
    "    \n",
    "    # Accuracies of default response file\n",
    "\n",
    "    accuracy_list_fpga0_exp1.append(get_accuracy(challenges, response_fpga0, i/20))\n",
    "    accuracy_list_fpga1_exp1.append(get_accuracy(challenges, response_fpga1, i/20))\n",
    "    accuracy_list_fpga0_exp2.append(get_accuracy(challenges, response_fpga0, i/20))\n",
    "    accuracy_list_fpga1_exp2.append(get_accuracy(challenges, response_fpga1, i/20))\n",
    "    accuracy_list_fpga0_exp3.append(get_accuracy(challenges, response_fpga0, i/20))\n",
    "    accuracy_list_fpga1_exp3.append(get_accuracy(challenges, response_fpga1, i/20))  \n",
    "    i=i+1\n",
    "\n",
    "    \n",
    "    "
   ]
  },
  {
   "cell_type": "markdown",
   "id": "a46d0c98",
   "metadata": {},
   "source": [
    "# Statistical Results"
   ]
  },
  {
   "cell_type": "markdown",
   "id": "7174fbcb",
   "metadata": {},
   "source": [
    "Prints the following stats values for each model accuracy list (FPGA0 and FPGA1): min, max, average, and standard deviation (StD). NumPy have functions to compute all these.\n",
    "\n",
    "Also, print the sample size (n) of the collected data (i.e., the length of each list)."
   ]
  },
  {
   "cell_type": "code",
   "execution_count": 12,
   "id": "057077a3",
   "metadata": {
    "scrolled": true
   },
   "outputs": [
    {
     "name": "stdout",
     "output_type": "stream",
     "text": [
      "FPGA0 Experiment 1 Accuracy List : Min: 0.6527578830718994 Max: 0.7251999974250793 Average: 0.6926523792116266 StD 0.022573204989824056 Length 19\n",
      "FPGA1 Experiment 1 Accuracy List: Min: 0.6407579183578491 Max: 0.7040571570396423 Average: 0.6859856938060961 StD 0.01799543198375386 Length 19\n",
      "FPGA0 Experiment 2 Accuracy List : Min: 0.634933352470398 Max: 0.7135999798774719 Average: 0.6907267382270411 StD 0.024799655209333558 Length 19\n",
      "FPGA1 Experiment 2 Accuracy List: Min: 0.6322333216667175 Max: 0.7011733055114746 Average: 0.6775736651922527 StD 0.019968754363919237 Length 19\n",
      "FPGA0 Experiment 3 Accuracy List : Min: 0.6480000019073486 Max: 0.7127000093460083 Average: 0.689195265895442 StD 0.021256565019228235 Length 19\n",
      "FPGA1 Experiment 3 Accuracy List: Min: 0.6206526160240173 Max: 0.7088000178337097 Average: 0.6780801540926883 StD 0.02188540777062272 Length 19\n",
      "Average Accuracy for FPGA 0:  0.6908581277780366\n",
      "Average Accuracy for FPGA 1:  0.680546504363679\n",
      "Average Min for FPGA 0:  0.6452304124832153\n",
      "Average Min for FPGA 1:  0.6312146186828613\n",
      "Average Max for FPGA 0:  0.7171666622161865\n",
      "Average Max for FPGA 1:  0.7046768267949423\n",
      "Average StD for FPGA 0:  0.02287647507279528\n",
      "Average StD for FPGA 1:  0.019949864706098604\n",
      "Element Wise Avg for FPGA0:  [0.65289122 0.65851853 0.68425882 0.69078332 0.69300445 0.7022\n",
      " 0.69073846 0.69322222 0.69522427 0.69510667 0.68871111 0.70856665\n",
      " 0.69558096 0.70166667 0.67285333 0.68180001 0.7083111  0.705\n",
      " 0.70786665]\n",
      "Element Wise Avg for FPGA1:  [0.63202806 0.64792593 0.66041569 0.68685834 0.69045333 0.6802476\n",
      " 0.69162051 0.65471111 0.68149092 0.68798665 0.69330372 0.69534999\n",
      " 0.70060953 0.68513334 0.68735999 0.68659999 0.68102221 0.69006668\n",
      " 0.6972    ]\n"
     ]
    }
   ],
   "source": [
    "# Experiment 1\n",
    "nparray_experiment1_fpga0 = np.asarray(accuracy_list_fpga0_exp1)\n",
    "nparray_experiment1_fpga1 = np.asarray(accuracy_list_fpga1_exp1)\n",
    "\n",
    "\n",
    "print(\"FPGA0 Experiment 1 Accuracy List :\",\"Min:\", np.min(nparray_experiment1_fpga0), \"Max:\", np.max(nparray_experiment1_fpga0), \"Average:\", np.average(nparray_experiment1_fpga0), \"StD\", np.std(nparray_experiment1_fpga0), \"Length\", len(nparray_experiment1_fpga0))\n",
    "print(\"FPGA1 Experiment 1 Accuracy List:\",\"Min:\", np.min(nparray_experiment1_fpga1), \"Max:\", np.max(nparray_experiment1_fpga1), \"Average:\", np.average(nparray_experiment1_fpga1), \"StD\", np.std(nparray_experiment1_fpga1), \"Length\", len(nparray_experiment1_fpga1))\n",
    "\n",
    "# Experiment 2\n",
    "nparray_experiment2_fpga0 = np.asarray(accuracy_list_fpga0_exp2)\n",
    "nparray_experiment2_fpga1 = np.asarray(accuracy_list_fpga1_exp2)\n",
    "\n",
    "print(\"FPGA0 Experiment 2 Accuracy List :\",\"Min:\", np.min(nparray_experiment2_fpga0), \"Max:\", np.max(nparray_experiment2_fpga0), \"Average:\", np.average(nparray_experiment2_fpga0), \"StD\", np.std(nparray_experiment2_fpga0), \"Length\", len(nparray_experiment2_fpga0))\n",
    "print(\"FPGA1 Experiment 2 Accuracy List:\",\"Min:\", np.min(nparray_experiment2_fpga1), \"Max:\", np.max(nparray_experiment2_fpga1), \"Average:\", np.average(nparray_experiment2_fpga1), \"StD\", np.std(nparray_experiment2_fpga1), \"Length\", len(nparray_experiment2_fpga1))\n",
    "\n",
    "# Experiment 3\n",
    "nparray_experiment3_fpga0 = np.asarray(accuracy_list_fpga0_exp3)\n",
    "nparray_experiment3_fpga1 = np.asarray(accuracy_list_fpga1_exp3)\n",
    "\n",
    "print(\"FPGA0 Experiment 3 Accuracy List :\",\"Min:\", np.min(nparray_experiment3_fpga0), \"Max:\", np.max(nparray_experiment3_fpga0), \"Average:\", np.average(nparray_experiment3_fpga0), \"StD\", np.std(nparray_experiment3_fpga0), \"Length\", len(nparray_experiment3_fpga0))\n",
    "print(\"FPGA1 Experiment 3 Accuracy List:\",\"Min:\", np.min(nparray_experiment3_fpga1), \"Max:\", np.max(nparray_experiment3_fpga1), \"Average:\", np.average(nparray_experiment3_fpga1), \"StD\", np.std(nparray_experiment3_fpga1), \"Length\", len(nparray_experiment3_fpga1))\n",
    "\n",
    "# Average List for default crp accuracy : FPGA0\n",
    "avg_list_fpga0 = []\n",
    "avg_list_fpga0.append(np.average(nparray_experiment1_fpga0))\n",
    "avg_list_fpga0.append(np.average(nparray_experiment2_fpga0))\n",
    "avg_list_fpga0.append(np.average(nparray_experiment3_fpga0))\n",
    "\n",
    "# Average List for default crp accuracy : FPGA1\n",
    "avg_list_fpga1 = []\n",
    "avg_list_fpga1.append(np.average(nparray_experiment1_fpga1))\n",
    "avg_list_fpga1.append(np.average(nparray_experiment2_fpga1))\n",
    "avg_list_fpga1.append(np.average(nparray_experiment3_fpga1))\n",
    "\n",
    "# Average List for min crp accuracy : FPGA0\n",
    "avg_list_min_fpga0 = []\n",
    "avg_list_min_fpga0.append(np.min(nparray_experiment1_fpga0))\n",
    "avg_list_min_fpga0.append(np.min(nparray_experiment2_fpga0))\n",
    "avg_list_min_fpga0.append(np.min(nparray_experiment3_fpga0))\n",
    "\n",
    "# Average List for min crp accuracy : FPGA1\n",
    "avg_list_min_fpga1 = []\n",
    "avg_list_min_fpga1.append(np.min(nparray_experiment1_fpga1))\n",
    "avg_list_min_fpga1.append(np.min(nparray_experiment2_fpga1))\n",
    "avg_list_min_fpga1.append(np.min(nparray_experiment3_fpga1))\n",
    "\n",
    "# Average List for max crp accuracy : FPGA0\n",
    "avg_list_max_fpga0 = []\n",
    "avg_list_max_fpga0.append(np.max(nparray_experiment1_fpga0))\n",
    "avg_list_max_fpga0.append(np.max(nparray_experiment2_fpga0))\n",
    "avg_list_max_fpga0.append(np.max(nparray_experiment3_fpga0))\n",
    "\n",
    "# Average List for max crp accuracy : FPGA1\n",
    "avg_list_max_fpga1 = []\n",
    "avg_list_max_fpga1.append(np.max(nparray_experiment1_fpga1))\n",
    "avg_list_max_fpga1.append(np.max(nparray_experiment2_fpga1))\n",
    "avg_list_max_fpga1.append(np.max(nparray_experiment3_fpga1))\n",
    "\n",
    "# Average List for std crp accuracy : FPGA0\n",
    "avg_list_std_fpga0 = []\n",
    "avg_list_std_fpga0.append(np.std(nparray_experiment1_fpga0))\n",
    "avg_list_std_fpga0.append(np.std(nparray_experiment2_fpga0))\n",
    "avg_list_std_fpga0.append(np.std(nparray_experiment3_fpga0))\n",
    "\n",
    "# Average List for std crp accuracy : FPGA1\n",
    "avg_list_std_fpga1 = []\n",
    "avg_list_std_fpga1.append(np.std(nparray_experiment1_fpga1))\n",
    "avg_list_std_fpga1.append(np.std(nparray_experiment2_fpga1))\n",
    "avg_list_std_fpga1.append(np.std(nparray_experiment3_fpga1))\n",
    "\n",
    "\n",
    "\n",
    "\n",
    "\n",
    "# Average of averages                                          \n",
    "np_avg_list_min_fpga0 = np.asarray(avg_list_min_fpga0)\n",
    "np_avg_list_min_fpga1 = np.asarray(avg_list_min_fpga1)\n",
    "np_avg_list_max_fpga0 = np.asarray(avg_list_max_fpga0)\n",
    "np_avg_list_max_fpga1 = np.asarray(avg_list_max_fpga1)\n",
    "np_avg_list_std_fpga0 = np.asarray(avg_list_std_fpga0)\n",
    "np_avg_list_std_fpga1 = np.asarray(avg_list_std_fpga1)\n",
    "np_avg_list_fpga0 = np.asarray(avg_list_fpga0)\n",
    "np_avg_list_fpga1 = np.asarray(avg_list_fpga1)\n",
    "\n",
    "                                          \n",
    "print(\"Average Accuracy for FPGA 0: \", np.average(np_avg_list_fpga0))\n",
    "print(\"Average Accuracy for FPGA 1: \", np.average(np_avg_list_fpga1))\n",
    "print(\"Average Min for FPGA 0: \", np.average(np_avg_list_min_fpga0))\n",
    "print(\"Average Min for FPGA 1: \", np.average(np_avg_list_min_fpga1))\n",
    "print(\"Average Max for FPGA 0: \", np.average(np_avg_list_max_fpga0))\n",
    "print(\"Average Max for FPGA 1: \", np.average(np_avg_list_max_fpga1))\n",
    "print(\"Average StD for FPGA 0: \", np.average(np_avg_list_std_fpga0))\n",
    "print(\"Average StD for FPGA 1: \", np.average(np_avg_list_std_fpga1))\n",
    "\n",
    "averaged_array_fpga0 = []\n",
    "averaged_array_fpga0.append(nparray_experiment1_fpga0)\n",
    "averaged_array_fpga0.append(nparray_experiment2_fpga0)\n",
    "averaged_array_fpga0.append(nparray_experiment3_fpga0)\n",
    "np_avg_array_fpga0 = np.asarray(averaged_array_fpga0)\n",
    "\n",
    "averaged_array_fpga1 = []\n",
    "averaged_array_fpga1.append(nparray_experiment1_fpga1)\n",
    "averaged_array_fpga1.append(nparray_experiment2_fpga1)\n",
    "averaged_array_fpga1.append(nparray_experiment3_fpga1)\n",
    "np_avg_array_fpga1 = np.asarray(averaged_array_fpga1)\n",
    "\n",
    "\n",
    "\n",
    "print(\"Element Wise Avg for FPGA0: \", np_avg_array_fpga0.mean(axis=0))\n",
    "print(\"Element Wise Avg for FPGA1: \", np_avg_array_fpga1.mean(axis=0))\n",
    "\n"
   ]
  },
  {
   "cell_type": "markdown",
   "id": "325cf281",
   "metadata": {},
   "source": [
    "# Plots"
   ]
  },
  {
   "cell_type": "markdown",
   "id": "e3bb050f",
   "metadata": {},
   "source": [
    "Plot and save (as PDF) each model accurance list (FPGA0 and FPGA1) as a line graph or vertical bar graph (your choice). Make sure to format the plots with adequate size, title, axis labels, ... (see the Tutorial-01-Python).\n",
    "\n",
    "To generate line graphs, use `plt.plot()`. Read more: https://matplotlib.org/stable/api/_as_gen/matplotlib.pyplot.plot.html\n",
    "\n",
    "To generate vertical bar graphs, use `plt.bar()`. Read more: https://matplotlib.org/stable/api/_as_gen/matplotlib.pyplot.bar.html"
   ]
  },
  {
   "cell_type": "code",
   "execution_count": 8,
   "id": "9f6fecb7",
   "metadata": {},
   "outputs": [
    {
     "data": {
      "image/png": "[encoded data removed]",
      "text/plain": [
       "<Figure size 504x288 with 1 Axes>"
      ]
     },
     "metadata": {
      "needs_background": "light"
     },
     "output_type": "display_data"
    }
   ],
   "source": [
    "# get data to plot (NumPy recommended)\n",
    "\n",
    "result = np_avg_array_fpga0.mean(axis=0)\n",
    "x_axis=[\"5%\",\"10%\", \"15%\", \"20%\", \"25%\", \"30%\", \"35%\", \"40%\", \"45%\", \"50%\", \"55%\", \"60%\", \"65%\", \"70%\", \"75%\", \"80%\", \"85%\", \"90%\", \"95%\"]\n",
    "# average_y_axis=[]\n",
    "\n",
    "\n",
    "# figure properties\n",
    "plt.figure(figsize=(7,4), constrained_layout=True)\n",
    "\n",
    "# plots the data\n",
    "plt.plot(x_axis, result)\n",
    "\n",
    "\n",
    "# format your plots\n",
    "plt.title(\"Model Accuracy vs Training Dataset Size: FPGA0\")            # adds title\n",
    "plt.xlabel(\"Percent of Data used for Training\")          # adds x-axis label\n",
    "plt.ylabel(\"Accuracy\")          # adds y-axis label\n",
    "# plt.xlim(0, 3)               # sets x-axis min/max values\n",
    "plt.ylim(0.40, 0.80)             # sets y-axis min/max values\n",
    "\n",
    "\n",
    "# saves the plot\n",
    "plt.savefig(\"../Figures/accuracy_vs_percent_trained_fpga0.pdf\") # PDF recommended\n",
    "\n",
    "\n",
    "\n",
    "# show the plot on your screen\n",
    "plt.show()\n"
   ]
  },
  {
   "cell_type": "code",
   "execution_count": 9,
   "id": "3b71076f",
   "metadata": {},
   "outputs": [
    {
     "data": {
      "image/png": "[encoded data removed]",
      "text/plain": [
       "<Figure size 504x288 with 1 Axes>"
      ]
     },
     "metadata": {
      "needs_background": "light"
     },
     "output_type": "display_data"
    }
   ],
   "source": [
    "# get data to plot (NumPy recommended)\n",
    "\n",
    "result = np_avg_array_fpga1.mean(axis=0)\n",
    "x_axis=[\"5%\",\"10%\", \"15%\", \"20%\", \"25%\", \"30%\", \"35%\", \"40%\", \"45%\", \"50%\", \"55%\", \"60%\", \"65%\", \"70%\", \"75%\", \"80%\", \"85%\", \"90%\", \"95%\"]\n",
    "# average_y_axis=[]\n",
    "\n",
    "\n",
    "# figure properties\n",
    "plt.figure(figsize=(7,4), constrained_layout=True)\n",
    "\n",
    "# plots the data\n",
    "plt.plot(x_axis, result)\n",
    "\n",
    "\n",
    "# format your plots\n",
    "plt.title(\"Model Accuracy vs Training Dataset Size: FPGA1\")            # adds title\n",
    "plt.xlabel(\"Percent of Data used for Training\")          # adds x-axis label\n",
    "plt.ylabel(\"Accuracy\")          # adds y-axis label\n",
    "# plt.xlim(0, 3)               # sets x-axis min/max values\n",
    "plt.ylim(0.40, 0.80)            # sets y-axis min/max values\n",
    "\n",
    "\n",
    "# saves the plot\n",
    "plt.savefig(\"../Figures/accuracy_vs_percent_trained_fpga1.pdf\") # PDF recommended\n",
    "\n",
    "\n",
    "# show the plot on your screen\n",
    "plt.show()\n",
    "\n"
   ]
  }
 ],
 "metadata": {
  "kernelspec": {
   "display_name": "Python 3 (ipykernel)",
   "language": "python",
   "name": "python3"
  },
  "language_info": {
   "codemirror_mode": {
    "name": "ipython",
    "version": 3
   },
   "file_extension": ".py",
   "mimetype": "text/x-python",
   "name": "python",
   "nbconvert_exporter": "python",
   "pygments_lexer": "ipython3",
   "version": "3.9.5"
  },
  "toc": {
   "base_numbering": 1,
   "nav_menu": {},
   "number_sections": true,
   "sideBar": true,
   "skip_h1_title": false,
   "title_cell": "Table of Contents",
   "title_sidebar": "Contents",
   "toc_cell": false,
   "toc_position": {},
   "toc_section_display": true,
   "toc_window_display": false
  },
  "varInspector": {
   "cols": {
    "lenName": 16,
    "lenType": 16,
    "lenVar": 40
   },
   "kernels_config": {
    "python": {
     "delete_cmd_postfix": "",
     "delete_cmd_prefix": "del ",
     "library": "var_list.py",
     "varRefreshCmd": "print(var_dic_list())"
    },
    "r": {
     "delete_cmd_postfix": ") ",
     "delete_cmd_prefix": "rm(",
     "library": "var_list.r",
     "varRefreshCmd": "cat(var_dic_list()) "
    }
   },
   "types_to_exclude": [
    "module",
    "function",
    "builtin_function_or_method",
    "instance",
    "_Feature"
   ],
   "window_display": false
  }
 },
 "nbformat": 4,
 "nbformat_minor": 5
}
