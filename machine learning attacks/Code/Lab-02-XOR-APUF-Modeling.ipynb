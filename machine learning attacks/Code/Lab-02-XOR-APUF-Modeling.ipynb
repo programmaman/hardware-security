{
 "cells": [
  {
   "cell_type": "markdown",
   "id": "00be4420",
   "metadata": {},
   "source": [
    "# Setup\n",
    "\n",
    "Below will import the `modelPUF` modules to setup the CRPs and make a PUF model from the `modelPUF.py` script.\n",
    "\n",
    "Also, add any other library here that you may need to import."
   ]
  },
  {
   "cell_type": "code",
   "execution_count": 1,
   "id": "efa4a5dc",
   "metadata": {},
   "outputs": [
    {
     "name": "stderr",
     "output_type": "stream",
     "text": [
      "2022-10-01 07:02:36.547382: W tensorflow/stream_executor/platform/default/dso_loader.cc:64] Could not load dynamic library 'libcudart.so.11.0'; dlerror: libcudart.so.11.0: cannot open shared object file: No such file or directory\n",
      "2022-10-01 07:02:36.547403: I tensorflow/stream_executor/cuda/cudart_stub.cc:29] Ignore above cudart dlerror if you do not have a GPU set up on your machine.\n"
     ]
    }
   ],
   "source": [
    "from modelPUF import *\n",
    "import numpy as np\n",
    "import scipy.spatial as spatial\n",
    "import matplotlib.pyplot as plt"
   ]
  },
  {
   "cell_type": "markdown",
   "id": "073faff0",
   "metadata": {},
   "source": [
    "# PUF Modeling\n",
    "\n",
    "We will be modeling each of your FPGAs. Go through the `modelPUF.py` script and see how to interface with the model. You need to model it using the resp files from Lab 01, select one (any) for each FPGA.\n",
    "\n",
    "Since we are going to train and test the model many times, make a function that will setup the CRP, model, train, test, and get it's accuracy for a given dataset percent `p` for training.\n"
   ]
  },
  {
   "cell_type": "code",
   "execution_count": 2,
   "id": "a31b3185",
   "metadata": {},
   "outputs": [],
   "source": [
    "'''\n",
    "Function: get_accuracy()\n",
    "  Input: 'cfile' - challanges file name\n",
    "  Input: 'rfile' - responses file name\n",
    "  Input: 'p' - percentage of data to use for training\n",
    "  Output: 'accuracy' - model accuracy\n",
    "'''\n",
    "\n",
    "def get_accuracy(cfile: str, rfile: str, p: float) -> float:\n",
    "    crpData = ChallengeResponseSet(cfile, rfile)\n",
    "    crpData.train_test_split(p)\n",
    "    pufmodel = pufModel(crpData)\n",
    "    pufmodel.train(crpData)\n",
    "    accuracy = pufmodel.test(crpData)\n",
    "    return accuracy"
   ]
  },
  {
   "cell_type": "markdown",
   "id": "84984b84",
   "metadata": {},
   "source": [
    "Test your function. Note: this may take a while, so test with a small file (such as the 5k)."
   ]
  },
  {
   "cell_type": "code",
   "execution_count": 3,
   "id": "8264004e",
   "metadata": {},
   "outputs": [
    {
     "name": "stderr",
     "output_type": "stream",
     "text": [
      "2022-10-01 07:02:38.327231: W tensorflow/stream_executor/platform/default/dso_loader.cc:64] Could not load dynamic library 'libcuda.so.1'; dlerror: libcuda.so.1: cannot open shared object file: No such file or directory\n",
      "2022-10-01 07:02:38.327251: W tensorflow/stream_executor/cuda/cuda_driver.cc:269] failed call to cuInit: UNKNOWN ERROR (303)\n",
      "2022-10-01 07:02:38.327263: I tensorflow/stream_executor/cuda/cuda_diagnostics.cc:156] kernel driver does not appear to be running on this host (PHS-VM): /proc/driver/nvidia/version does not exist\n",
      "2022-10-01 07:02:38.327427: I tensorflow/core/platform/cpu_feature_guard.cc:193] This TensorFlow binary is optimized with oneAPI Deep Neural Network Library (oneDNN) to use the following CPU instructions in performance-critical operations:  AVX2\n",
      "To enable them in other operations, rebuild TensorFlow with the appropriate compiler flags.\n"
     ]
    },
    {
     "name": "stdout",
     "output_type": "stream",
     "text": [
      "Accuracy on 25000 unseen challenges is: 0.7105200290679932\n"
     ]
    },
    {
     "data": {
      "text/plain": [
       "0.7105200290679932"
      ]
     },
     "execution_count": 3,
     "metadata": {},
     "output_type": "execute_result"
    }
   ],
   "source": [
    "challenges = \"../Challenges/challenges_50k.npz\"\n",
    "response_fpga0 = \"../Responses/fpga0_resp1_bitfile1_alec_50k.npz\"\n",
    "response_fpga1 = \"../Responses/fpga1_resp1_bitfile1_jasmin_50k.npz\"\n",
    "\n",
    "data = np.load(\"../Responses/fpga0_resp1_bitfile1_alec_50k.npz\")\n",
    "fpga0_resp = data['response']\n",
    "\n",
    "data = np.load(\"../Responses/fpga1_resp1_bitfile1_jasmin_50k.npz\")\n",
    "fpga1_resp = data['response']\n",
    "\n",
    "\n",
    "\n",
    "    \n",
    "get_accuracy(challenges, response_fpga0, 0.5)"
   ]
  },
  {
   "cell_type": "markdown",
   "id": "f6c4560f",
   "metadata": {},
   "source": [
    "# 2 BIT XOR and 4 BIT XOR FUNCTIONS\n",
    "\n",
    "Create functions that will 2BIT XOR and 4BIT XOR the response files for this lab"
   ]
  },
  {
   "cell_type": "code",
   "execution_count": 4,
   "id": "bf9d68c0",
   "metadata": {},
   "outputs": [],
   "source": [
    "def TWO_BIT_XOR(response):\n",
    "    fpga0_resp_2XOR = []\n",
    "    \n",
    "    for i in range(len(response)):\n",
    "        j = 0\n",
    "        k = 0\n",
    "        xor_string = \"\"\n",
    "        while j < len(response[i]):\n",
    "            xor_string = xor_string + str(int(response[i][j]) ^ int(response[i][j + 1]))\n",
    "            k=k+1\n",
    "            j=j+2\n",
    "        fpga0_resp_2XOR.append(xor_string)\n",
    "    return fpga0_resp_2XOR\n",
    "\n",
    "\n",
    "def FOUR_BIT_XOR(response):\n",
    "    fpga0_resp_4XOR = []\n",
    "    \n",
    "    for i in range(len(response)):\n",
    "        j = 0\n",
    "        k = 0\n",
    "        xor_string = \"\"\n",
    "        while j < len(response[i]):\n",
    "            xor_string = xor_string + str(int(response[i][j]) ^ int(response[i][j + 1]) ^ int(response[i][j + 2]) ^ int(response[i][j + 3]))\n",
    "            k=k+1\n",
    "            j=j+4\n",
    "        fpga0_resp_4XOR.append(xor_string)\n",
    "    return fpga0_resp_4XOR"
   ]
  },
  {
   "cell_type": "markdown",
   "id": "da1f3b3d",
   "metadata": {},
   "source": [
    "# XOR the Response Files' Outputs"
   ]
  },
  {
   "cell_type": "code",
   "execution_count": 5,
   "id": "be26d402",
   "metadata": {},
   "outputs": [
    {
     "name": "stdout",
     "output_type": "stream",
     "text": [
      "Done\n"
     ]
    }
   ],
   "source": [
    "response_fpga0_2bit_xor = TWO_BIT_XOR(fpga0_resp)\n",
    "response_fpga1_2bit_xor = TWO_BIT_XOR(fpga1_resp)\n",
    "\n",
    "response_fpga0_4bit_xor = FOUR_BIT_XOR(fpga0_resp)\n",
    "response_fpga1_4bit_xor = FOUR_BIT_XOR(fpga1_resp)\n",
    "\n",
    "    \n",
    "# Convert Lists to NP Arrays and save the npz files\n",
    "np_response_fpga0_2bit_xor = np.asarray(response_fpga0_2bit_xor)\n",
    "out_filename = \"../Responses/fpga0_resp1_bitfile1_alec_50k_2bit_xor.npz\"\n",
    "np.savez(out_filename, response=np_response_fpga0_2bit_xor)\n",
    "\n",
    "np_response_fpga1_2bit_xor = np.asarray(response_fpga1_2bit_xor)\n",
    "out_filename = \"../Responses/fpga1_resp1_bitfile1_jasmin_50k_2bit_xor.npz\"\n",
    "np.savez(out_filename, response=np_response_fpga1_2bit_xor)\n",
    "\n",
    "np_response_fpga0_4bit_xor = np.asarray(response_fpga0_4bit_xor)\n",
    "out_filename = \"../Responses/fpga0_resp1_bitfile1_alec_50k_4bit_xor.npz\"\n",
    "np.savez(out_filename, response=np_response_fpga0_4bit_xor)\n",
    "\n",
    "np_response_fpga1_4bit_xor = np.asarray(response_fpga1_4bit_xor)\n",
    "out_filename = \"../Responses/fpga1_resp1_bitfile1_jasmin_50k_4bit_xor.npz\"\n",
    "np.savez(out_filename, response=np_response_fpga1_4bit_xor)\n",
    "\n",
    "print(\"Done\")"
   ]
  },
  {
   "cell_type": "markdown",
   "id": "089253c2",
   "metadata": {},
   "source": [
    "Use the XOR'd response files along with the challenge data to train the model."
   ]
  },
  {
   "cell_type": "code",
   "execution_count": 6,
   "id": "2c849b4b",
   "metadata": {},
   "outputs": [
    {
     "name": "stdout",
     "output_type": "stream",
     "text": [
      "Accuracy of 2BIT XOR'd crp pairs\n",
      "Accuracy on 47500 unseen challenges is: 0.6859157681465149\n",
      "Accuracy on 47500 unseen challenges is: 0.674463152885437\n",
      "Accuracy on 47500 unseen challenges is: 0.6850526332855225\n",
      "WARNING:tensorflow:5 out of the last 5 calls to <function Model.make_predict_function.<locals>.predict_function at 0x7f0b71d2c0d0> triggered tf.function retracing. Tracing is expensive and the excessive number of tracings could be due to (1) creating @tf.function repeatedly in a loop, (2) passing tensors with different shapes, (3) passing Python objects instead of tensors. For (1), please define your @tf.function outside of the loop. For (2), @tf.function has reduce_retracing=True option that can avoid unnecessary retracing. For (3), please refer to https://www.tensorflow.org/guide/function#controlling_retracing and https://www.tensorflow.org/api_docs/python/tf/function for  more details.\n",
      "Accuracy on 47500 unseen challenges is: 0.6569473743438721\n",
      "WARNING:tensorflow:6 out of the last 6 calls to <function Model.make_predict_function.<locals>.predict_function at 0x7f0b71b09160> triggered tf.function retracing. Tracing is expensive and the excessive number of tracings could be due to (1) creating @tf.function repeatedly in a loop, (2) passing tensors with different shapes, (3) passing Python objects instead of tensors. For (1), please define your @tf.function outside of the loop. For (2), @tf.function has reduce_retracing=True option that can avoid unnecessary retracing. For (3), please refer to https://www.tensorflow.org/guide/function#controlling_retracing and https://www.tensorflow.org/api_docs/python/tf/function for  more details.\n",
      "Accuracy on 47500 unseen challenges is: 0.6902315616607666\n",
      "Accuracy on 47500 unseen challenges is: 0.6636631488800049\n",
      "Accuracy on 45000 unseen challenges is: 0.7046666741371155\n",
      "Accuracy on 45000 unseen challenges is: 0.7010889053344727\n",
      "Accuracy on 45000 unseen challenges is: 0.6868000030517578\n",
      "Accuracy on 45000 unseen challenges is: 0.7146444320678711\n",
      "Accuracy on 45000 unseen challenges is: 0.690488874912262\n",
      "Accuracy on 45000 unseen challenges is: 0.6768666505813599\n",
      "Accuracy on 42500 unseen challenges is: 0.707341194152832\n"
     ]
    },
    {
     "name": "stderr",
     "output_type": "stream",
     "text": [
      "2022-10-01 07:03:23.623990: W tensorflow/core/data/root_dataset.cc:247] Optimization loop failed: CANCELLED: Operation was cancelled\n"
     ]
    },
    {
     "name": "stdout",
     "output_type": "stream",
     "text": [
      "Accuracy on 42500 unseen challenges is: 0.6759764552116394\n",
      "Accuracy on 42500 unseen challenges is: 0.7076941132545471\n",
      "Accuracy on 42500 unseen challenges is: 0.7132235169410706\n",
      "Accuracy on 42500 unseen challenges is: 0.7282353043556213\n",
      "Accuracy on 42500 unseen challenges is: 0.6763529181480408\n",
      "Accuracy on 40000 unseen challenges is: 0.7063500285148621\n",
      "Accuracy on 40000 unseen challenges is: 0.7109500169754028\n",
      "Accuracy on 40000 unseen challenges is: 0.6899250149726868\n",
      "Accuracy on 40000 unseen challenges is: 0.6576250195503235\n",
      "Accuracy on 40000 unseen challenges is: 0.6896499991416931\n",
      "Accuracy on 40000 unseen challenges is: 0.7149249911308289\n",
      "Accuracy on 37500 unseen challenges is: 0.7231199741363525\n",
      "Accuracy on 37500 unseen challenges is: 0.6763200163841248\n"
     ]
    },
    {
     "name": "stderr",
     "output_type": "stream",
     "text": [
      "2022-10-01 07:04:07.384515: W tensorflow/core/data/root_dataset.cc:247] Optimization loop failed: CANCELLED: Operation was cancelled\n"
     ]
    },
    {
     "name": "stdout",
     "output_type": "stream",
     "text": [
      "Accuracy on 37500 unseen challenges is: 0.7315199971199036\n",
      "Accuracy on 37500 unseen challenges is: 0.7017333507537842\n",
      "Accuracy on 37500 unseen challenges is: 0.7311466932296753\n",
      "Accuracy on 37500 unseen challenges is: 0.6738933324813843\n",
      "Accuracy on 35000 unseen challenges is: 0.7095999717712402\n",
      "Accuracy on 35000 unseen challenges is: 0.7193142771720886\n",
      "Accuracy on 35000 unseen challenges is: 0.730657160282135\n",
      "Accuracy on 35000 unseen challenges is: 0.7055428624153137\n",
      "Accuracy on 35000 unseen challenges is: 0.6890000104904175\n"
     ]
    },
    {
     "name": "stderr",
     "output_type": "stream",
     "text": [
      "2022-10-01 07:04:50.133937: W tensorflow/core/data/root_dataset.cc:247] Optimization loop failed: CANCELLED: Operation was cancelled\n"
     ]
    },
    {
     "name": "stdout",
     "output_type": "stream",
     "text": [
      "Accuracy on 35000 unseen challenges is: 0.6755714416503906\n",
      "Accuracy on 32500 unseen challenges is: 0.7311692237854004\n",
      "Accuracy on 32500 unseen challenges is: 0.7189230918884277\n",
      "Accuracy on 32500 unseen challenges is: 0.6918769478797913\n",
      "Accuracy on 32500 unseen challenges is: 0.7134153842926025\n",
      "Accuracy on 32500 unseen challenges is: 0.6908307671546936\n",
      "Accuracy on 32500 unseen challenges is: 0.7187076807022095\n",
      "Accuracy on 30000 unseen challenges is: 0.6873666644096375\n"
     ]
    },
    {
     "name": "stderr",
     "output_type": "stream",
     "text": [
      "2022-10-01 07:05:38.820874: W tensorflow/core/data/root_dataset.cc:247] Optimization loop failed: CANCELLED: Operation was cancelled\n"
     ]
    },
    {
     "name": "stdout",
     "output_type": "stream",
     "text": [
      "Accuracy on 30000 unseen challenges is: 0.7184000015258789\n",
      "Accuracy on 30000 unseen challenges is: 0.7085333466529846\n",
      "Accuracy on 30000 unseen challenges is: 0.6606000065803528\n",
      "Accuracy on 30000 unseen challenges is: 0.6906333565711975\n",
      "Accuracy on 30000 unseen challenges is: 0.7136333584785461\n",
      "Accuracy on 27500 unseen challenges is: 0.7242545485496521\n",
      "Accuracy on 27500 unseen challenges is: 0.7041454315185547\n",
      "Accuracy on 27500 unseen challenges is: 0.7331272959709167\n",
      "Accuracy on 27500 unseen challenges is: 0.7176363468170166\n",
      "Accuracy on 27500 unseen challenges is: 0.7282909154891968\n",
      "Accuracy on 27500 unseen challenges is: 0.7270908951759338\n",
      "Accuracy on 25000 unseen challenges is: 0.7240399718284607\n"
     ]
    },
    {
     "name": "stderr",
     "output_type": "stream",
     "text": [
      "2022-10-01 07:06:34.575260: W tensorflow/core/data/root_dataset.cc:247] Optimization loop failed: CANCELLED: Operation was cancelled\n"
     ]
    },
    {
     "name": "stdout",
     "output_type": "stream",
     "text": [
      "Accuracy on 25000 unseen challenges is: 0.7181599736213684\n",
      "Accuracy on 25000 unseen challenges is: 0.7258800268173218\n",
      "Accuracy on 25000 unseen challenges is: 0.7174400091171265\n",
      "Accuracy on 25000 unseen challenges is: 0.7211999893188477\n",
      "Accuracy on 25000 unseen challenges is: 0.7172799706459045\n",
      "Accuracy on 22500 unseen challenges is: 0.7271999716758728\n",
      "Accuracy on 22500 unseen challenges is: 0.7262666821479797\n",
      "Accuracy on 22500 unseen challenges is: 0.6922666430473328\n"
     ]
    },
    {
     "name": "stderr",
     "output_type": "stream",
     "text": [
      "2022-10-01 07:07:25.564133: W tensorflow/core/data/root_dataset.cc:247] Optimization loop failed: CANCELLED: Operation was cancelled\n"
     ]
    },
    {
     "name": "stdout",
     "output_type": "stream",
     "text": [
      "Accuracy on 22500 unseen challenges is: 0.716533362865448\n",
      "Accuracy on 22500 unseen challenges is: 0.7084444165229797\n",
      "Accuracy on 22500 unseen challenges is: 0.7155555486679077\n",
      "Accuracy on 20000 unseen challenges is: 0.7299000024795532\n",
      "Accuracy on 20000 unseen challenges is: 0.6765000224113464\n",
      "Accuracy on 20000 unseen challenges is: 0.7264999747276306\n",
      "Accuracy on 20000 unseen challenges is: 0.7218000292778015\n",
      "Accuracy on 20000 unseen challenges is: 0.687749981880188\n",
      "Accuracy on 20000 unseen challenges is: 0.729449987411499\n",
      "Accuracy on 17500 unseen challenges is: 0.7224000096321106\n",
      "Accuracy on 17500 unseen challenges is: 0.7201142907142639\n",
      "Accuracy on 17500 unseen challenges is: 0.6908000111579895\n",
      "Accuracy on 17500 unseen challenges is: 0.7241142988204956\n",
      "Accuracy on 17500 unseen challenges is: 0.7225714325904846\n",
      "Accuracy on 17500 unseen challenges is: 0.7219428420066833\n",
      "Accuracy on 15000 unseen challenges is: 0.7303333282470703\n",
      "Accuracy on 15000 unseen challenges is: 0.6708666682243347\n",
      "Accuracy on 15000 unseen challenges is: 0.7297999858856201\n",
      "Accuracy on 15000 unseen challenges is: 0.7174000144004822\n",
      "Accuracy on 15000 unseen challenges is: 0.7292666435241699\n",
      "Accuracy on 15000 unseen challenges is: 0.6743999719619751\n",
      "Accuracy on 12500 unseen challenges is: 0.7196000218391418\n",
      "Accuracy on 12500 unseen challenges is: 0.7124000191688538\n",
      "Accuracy on 12500 unseen challenges is: 0.7219200134277344\n",
      "Accuracy on 12500 unseen challenges is: 0.7220799922943115\n",
      "Accuracy on 12500 unseen challenges is: 0.7311199903488159\n",
      "Accuracy on 12500 unseen challenges is: 0.714959979057312\n",
      "Accuracy on 10000 unseen challenges is: 0.7304999828338623\n",
      "Accuracy on 10000 unseen challenges is: 0.6834999918937683\n",
      "Accuracy on 10000 unseen challenges is: 0.7131999731063843\n",
      "Accuracy on 10000 unseen challenges is: 0.7229999899864197\n",
      "Accuracy on 10000 unseen challenges is: 0.7253999710083008\n",
      "Accuracy on 10000 unseen challenges is: 0.7135999798774719\n",
      "Accuracy on 7500 unseen challenges is: 0.7385333180427551\n",
      "Accuracy on 7500 unseen challenges is: 0.6757333278656006\n",
      "Accuracy on 7500 unseen challenges is: 0.7249333262443542\n",
      "Accuracy on 7500 unseen challenges is: 0.7260000109672546\n",
      "Accuracy on 7500 unseen challenges is: 0.7239999771118164\n",
      "Accuracy on 7500 unseen challenges is: 0.718666672706604\n",
      "Accuracy on 5000 unseen challenges is: 0.7287999987602234\n",
      "Accuracy on 5000 unseen challenges is: 0.70660001039505\n",
      "Accuracy on 5000 unseen challenges is: 0.7152000069618225\n",
      "Accuracy on 5000 unseen challenges is: 0.7325999736785889\n",
      "Accuracy on 5000 unseen challenges is: 0.7135999798774719\n",
      "Accuracy on 5000 unseen challenges is: 0.7052000164985657\n",
      "Accuracy on 2500 unseen challenges is: 0.7175999879837036\n",
      "Accuracy on 2500 unseen challenges is: 0.7307999730110168\n",
      "Accuracy on 2500 unseen challenges is: 0.7343999743461609\n",
      "Accuracy on 2500 unseen challenges is: 0.7307999730110168\n",
      "Accuracy on 2500 unseen challenges is: 0.7396000027656555\n",
      "Accuracy on 2500 unseen challenges is: 0.6796000003814697\n",
      "Accuracy of 4BIT XOR'd crp pairs\n",
      "Accuracy on 47500 unseen challenges is: 0.5669052600860596\n",
      "Accuracy on 47500 unseen challenges is: 0.5589052438735962\n",
      "Accuracy on 47500 unseen challenges is: 0.5317052602767944\n",
      "Accuracy on 47500 unseen challenges is: 0.5536210536956787\n",
      "Accuracy on 47500 unseen challenges is: 0.5184420943260193\n",
      "Accuracy on 47500 unseen challenges is: 0.5592210292816162\n",
      "Accuracy on 45000 unseen challenges is: 0.5711555480957031\n",
      "Accuracy on 45000 unseen challenges is: 0.5641777515411377\n",
      "Accuracy on 45000 unseen challenges is: 0.5745111107826233\n",
      "Accuracy on 45000 unseen challenges is: 0.5615777969360352\n",
      "Accuracy on 45000 unseen challenges is: 0.5715110898017883\n",
      "Accuracy on 45000 unseen challenges is: 0.5396444201469421\n"
     ]
    },
    {
     "name": "stderr",
     "output_type": "stream",
     "text": [
      "2022-10-01 07:13:18.272115: W tensorflow/core/data/root_dataset.cc:247] Optimization loop failed: CANCELLED: Operation was cancelled\n"
     ]
    },
    {
     "name": "stdout",
     "output_type": "stream",
     "text": [
      "Accuracy on 42500 unseen challenges is: 0.5756941437721252\n",
      "Accuracy on 42500 unseen challenges is: 0.5696941018104553\n",
      "Accuracy on 42500 unseen challenges is: 0.5729411840438843\n",
      "Accuracy on 42500 unseen challenges is: 0.5668705701828003\n",
      "Accuracy on 42500 unseen challenges is: 0.5770588517189026\n",
      "Accuracy on 42500 unseen challenges is: 0.5671058893203735\n",
      "Accuracy on 40000 unseen challenges is: 0.5787749886512756\n",
      "Accuracy on 40000 unseen challenges is: 0.5733000040054321\n",
      "Accuracy on 40000 unseen challenges is: 0.5741000175476074\n",
      "Accuracy on 40000 unseen challenges is: 0.5716249942779541\n",
      "Accuracy on 40000 unseen challenges is: 0.5802000164985657\n",
      "Accuracy on 40000 unseen challenges is: 0.5619750022888184\n",
      "Accuracy on 37500 unseen challenges is: 0.5814399719238281\n",
      "Accuracy on 37500 unseen challenges is: 0.576906681060791\n",
      "Accuracy on 37500 unseen challenges is: 0.5917333364486694\n",
      "Accuracy on 37500 unseen challenges is: 0.5684000253677368\n",
      "Accuracy on 37500 unseen challenges is: 0.5792533159255981\n",
      "Accuracy on 37500 unseen challenges is: 0.5645866394042969\n",
      "Accuracy on 35000 unseen challenges is: 0.5883428454399109\n",
      "Accuracy on 35000 unseen challenges is: 0.5720000267028809\n",
      "Accuracy on 35000 unseen challenges is: 0.5841714143753052\n",
      "Accuracy on 35000 unseen challenges is: 0.5701143145561218\n"
     ]
    },
    {
     "name": "stderr",
     "output_type": "stream",
     "text": [
      "2022-10-01 07:14:29.750437: W tensorflow/core/data/root_dataset.cc:247] Optimization loop failed: CANCELLED: Operation was cancelled\n"
     ]
    },
    {
     "name": "stdout",
     "output_type": "stream",
     "text": [
      "Accuracy on 35000 unseen challenges is: 0.5785142779350281\n",
      "Accuracy on 35000 unseen challenges is: 0.5693714022636414\n",
      "Accuracy on 32500 unseen challenges is: 0.5854769349098206\n",
      "Accuracy on 32500 unseen challenges is: 0.5782153606414795\n",
      "Accuracy on 32500 unseen challenges is: 0.5914154052734375\n",
      "Accuracy on 32500 unseen challenges is: 0.5692923069000244\n",
      "Accuracy on 32500 unseen challenges is: 0.5778461694717407\n",
      "Accuracy on 32500 unseen challenges is: 0.5684307813644409\n",
      "Accuracy on 30000 unseen challenges is: 0.5808666944503784\n",
      "Accuracy on 30000 unseen challenges is: 0.5788000226020813\n",
      "Accuracy on 30000 unseen challenges is: 0.5934666395187378\n",
      "Accuracy on 30000 unseen challenges is: 0.5721333622932434\n",
      "Accuracy on 30000 unseen challenges is: 0.5897666811943054\n",
      "Accuracy on 30000 unseen challenges is: 0.574733316898346\n",
      "Accuracy on 27500 unseen challenges is: 0.5846545696258545\n",
      "Accuracy on 27500 unseen challenges is: 0.5734182000160217\n",
      "Accuracy on 27500 unseen challenges is: 0.5876363515853882\n",
      "Accuracy on 27500 unseen challenges is: 0.5741817951202393\n",
      "Accuracy on 27500 unseen challenges is: 0.59861820936203\n",
      "Accuracy on 27500 unseen challenges is: 0.5736727118492126\n",
      "Accuracy on 25000 unseen challenges is: 0.5846800208091736\n",
      "Accuracy on 25000 unseen challenges is: 0.5793600082397461\n",
      "Accuracy on 25000 unseen challenges is: 0.5852800011634827\n",
      "Accuracy on 25000 unseen challenges is: 0.565559983253479\n",
      "Accuracy on 25000 unseen challenges is: 0.5913599729537964\n",
      "Accuracy on 25000 unseen challenges is: 0.5804399847984314\n",
      "Accuracy on 22500 unseen challenges is: 0.5841333270072937\n",
      "Accuracy on 22500 unseen challenges is: 0.5853333473205566\n",
      "Accuracy on 22500 unseen challenges is: 0.5925777554512024\n",
      "Accuracy on 22500 unseen challenges is: 0.5807555317878723\n",
      "Accuracy on 22500 unseen challenges is: 0.5961777567863464\n",
      "Accuracy on 22500 unseen challenges is: 0.5684444308280945\n",
      "Accuracy on 20000 unseen challenges is: 0.5913000106811523\n",
      "Accuracy on 20000 unseen challenges is: 0.578249990940094\n",
      "Accuracy on 20000 unseen challenges is: 0.5860000252723694\n",
      "Accuracy on 20000 unseen challenges is: 0.5726000070571899\n",
      "Accuracy on 20000 unseen challenges is: 0.590149998664856\n",
      "Accuracy on 20000 unseen challenges is: 0.566349983215332\n",
      "Accuracy on 17500 unseen challenges is: 0.5886285901069641\n",
      "Accuracy on 17500 unseen challenges is: 0.5808571577072144\n",
      "Accuracy on 17500 unseen challenges is: 0.5962285995483398\n",
      "Accuracy on 17500 unseen challenges is: 0.5846285820007324\n",
      "Accuracy on 17500 unseen challenges is: 0.5855428576469421\n",
      "Accuracy on 17500 unseen challenges is: 0.5818856954574585\n",
      "Accuracy on 15000 unseen challenges is: 0.5953333377838135\n",
      "Accuracy on 15000 unseen challenges is: 0.584933340549469\n",
      "Accuracy on 15000 unseen challenges is: 0.5967333316802979\n",
      "Accuracy on 15000 unseen challenges is: 0.5756666660308838\n",
      "Accuracy on 15000 unseen challenges is: 0.5987333059310913\n",
      "Accuracy on 15000 unseen challenges is: 0.5822666883468628\n",
      "Accuracy on 12500 unseen challenges is: 0.5981600284576416\n",
      "Accuracy on 12500 unseen challenges is: 0.5844799876213074\n",
      "Accuracy on 12500 unseen challenges is: 0.5973600149154663\n",
      "Accuracy on 12500 unseen challenges is: 0.5875200033187866\n",
      "Accuracy on 12500 unseen challenges is: 0.5826399922370911\n",
      "Accuracy on 12500 unseen challenges is: 0.5888000130653381\n",
      "Accuracy on 10000 unseen challenges is: 0.5958999991416931\n",
      "Accuracy on 10000 unseen challenges is: 0.5753999948501587\n",
      "Accuracy on 10000 unseen challenges is: 0.5679000020027161\n",
      "Accuracy on 10000 unseen challenges is: 0.5825999975204468\n",
      "Accuracy on 10000 unseen challenges is: 0.5813999772071838\n",
      "Accuracy on 10000 unseen challenges is: 0.5807999968528748\n",
      "Accuracy on 7500 unseen challenges is: 0.5884000062942505\n",
      "Accuracy on 7500 unseen challenges is: 0.583733320236206\n"
     ]
    },
    {
     "name": "stderr",
     "output_type": "stream",
     "text": [
      "2022-10-01 07:20:15.767902: W tensorflow/core/data/root_dataset.cc:247] Optimization loop failed: CANCELLED: Operation was cancelled\n"
     ]
    },
    {
     "name": "stdout",
     "output_type": "stream",
     "text": [
      "Accuracy on 7500 unseen challenges is: 0.5974666476249695\n",
      "Accuracy on 7500 unseen challenges is: 0.5882666707038879\n",
      "Accuracy on 7500 unseen challenges is: 0.5803999900817871\n",
      "Accuracy on 7500 unseen challenges is: 0.5856000185012817\n",
      "Accuracy on 5000 unseen challenges is: 0.5952000021934509\n",
      "Accuracy on 5000 unseen challenges is: 0.58160001039505\n",
      "Accuracy on 5000 unseen challenges is: 0.5916000008583069\n",
      "Accuracy on 5000 unseen challenges is: 0.5881999731063843\n"
     ]
    },
    {
     "name": "stderr",
     "output_type": "stream",
     "text": [
      "2022-10-01 07:21:25.345164: W tensorflow/core/data/root_dataset.cc:247] Optimization loop failed: CANCELLED: Operation was cancelled\n"
     ]
    },
    {
     "name": "stdout",
     "output_type": "stream",
     "text": [
      "Accuracy on 5000 unseen challenges is: 0.5971999764442444\n"
     ]
    },
    {
     "name": "stderr",
     "output_type": "stream",
     "text": [
      "2022-10-01 07:21:32.075819: W tensorflow/core/data/root_dataset.cc:247] Optimization loop failed: CANCELLED: Operation was cancelled\n"
     ]
    },
    {
     "name": "stdout",
     "output_type": "stream",
     "text": [
      "Accuracy on 5000 unseen challenges is: 0.5802000164985657\n",
      "Accuracy on 2500 unseen challenges is: 0.5856000185012817\n",
      "Accuracy on 2500 unseen challenges is: 0.5727999806404114\n",
      "Accuracy on 2500 unseen challenges is: 0.5960000157356262\n",
      "Accuracy on 2500 unseen challenges is: 0.579200029373169\n",
      "Accuracy on 2500 unseen challenges is: 0.5943999886512756\n",
      "Accuracy on 2500 unseen challenges is: 0.5687999725341797\n"
     ]
    }
   ],
   "source": [
    "challenges = \"../Challenges/challenges_50k.npz\"\n",
    "response_fpga0_2bit_xor = \"../Responses/fpga0_resp1_bitfile1_alec_50k_2bit_xor.npz\"\n",
    "response_fpga1_2bit_xor = \"../Responses/fpga1_resp1_bitfile1_jasmin_50k_2bit_xor.npz\"\n",
    "response_fpga0_4bit_xor = \"../Responses/fpga0_resp1_bitfile1_alec_50k_4bit_xor.npz\"\n",
    "response_fpga1_4bit_xor = \"../Responses/fpga1_resp1_bitfile1_jasmin_50k_4bit_xor.npz\"\n",
    "\n",
    "\n",
    "#Experiment 1\n",
    "accuracy_list_fpga0_2bit_xor_exp1 = []\n",
    "accuracy_list_fpga1_2bit_xor_exp1 = []\n",
    "accuracy_list_fpga0_4bit_xor_exp1 = []\n",
    "accuracy_list_fpga1_4bit_xor_exp1 = []\n",
    "\n",
    "#Experiment 2\n",
    "accuracy_list_fpga0_2bit_xor_exp2 = []\n",
    "accuracy_list_fpga1_2bit_xor_exp2 = []\n",
    "accuracy_list_fpga0_4bit_xor_exp2 = []\n",
    "accuracy_list_fpga1_4bit_xor_exp2 = []\n",
    "\n",
    "#Experiment 3\n",
    "accuracy_list_fpga0_2bit_xor_exp3 = []\n",
    "accuracy_list_fpga1_2bit_xor_exp3 = []\n",
    "accuracy_list_fpga0_4bit_xor_exp3 = []\n",
    "accuracy_list_fpga1_4bit_xor_exp3 = []\n",
    "\n",
    "\n",
    "i=1\n",
    "\n",
    "print(\"Accuracy of 2BIT XOR'd crp pairs\")\n",
    "\n",
    "while i <= 19:  \n",
    "    \n",
    "    # Accuracies of 2 Bit XOR'd Response Files\n",
    "    accuracy_list_fpga0_2bit_xor_exp1.append(get_accuracy(challenges, response_fpga0_2bit_xor, i/20))\n",
    "    accuracy_list_fpga1_2bit_xor_exp1.append(get_accuracy(challenges, response_fpga1_2bit_xor, i/20))\n",
    "    accuracy_list_fpga0_2bit_xor_exp2.append(get_accuracy(challenges, response_fpga0_2bit_xor, i/20))\n",
    "    accuracy_list_fpga1_2bit_xor_exp2.append(get_accuracy(challenges, response_fpga1_2bit_xor, i/20))\n",
    "    accuracy_list_fpga0_2bit_xor_exp3.append(get_accuracy(challenges, response_fpga0_2bit_xor, i/20))\n",
    "    accuracy_list_fpga1_2bit_xor_exp3.append(get_accuracy(challenges, response_fpga1_2bit_xor, i/20))\n",
    "    \n",
    "    i=i+1\n",
    "    \n",
    "    \n",
    "i=1\n",
    "\n",
    "print(\"Accuracy of 4BIT XOR'd crp pairs\")\n",
    "\n",
    "while i <= 19:     \n",
    "\n",
    "    # Accuracies of 4 Bit XOR'd Response Files\n",
    "    accuracy_list_fpga0_4bit_xor_exp1.append(get_accuracy(challenges, response_fpga0_4bit_xor, i/20))\n",
    "    accuracy_list_fpga1_4bit_xor_exp1.append(get_accuracy(challenges, response_fpga1_4bit_xor, i/20))\n",
    "    accuracy_list_fpga0_4bit_xor_exp2.append(get_accuracy(challenges, response_fpga0_4bit_xor, i/20))\n",
    "    accuracy_list_fpga1_4bit_xor_exp2.append(get_accuracy(challenges, response_fpga1_4bit_xor, i/20))\n",
    "    accuracy_list_fpga0_4bit_xor_exp3.append(get_accuracy(challenges, response_fpga0_4bit_xor, i/20))\n",
    "    accuracy_list_fpga1_4bit_xor_exp3.append(get_accuracy(challenges, response_fpga1_4bit_xor, i/20))\n",
    "    \n",
    "    i=i+1\n",
    "\n"
   ]
  },
  {
   "cell_type": "markdown",
   "id": "a8d29812",
   "metadata": {},
   "source": [
    "# Statistical Results\n",
    "\n",
    "Prints the following stats values for each model accuracy list (FPGA0 and FPGA1): min, max, average, and standard deviation (StD). NumPy have functions to compute all these.\n",
    "\n",
    "Also, print the sample size (n) of the collected data (i.e., the length of each list)."
   ]
  },
  {
   "cell_type": "code",
   "execution_count": 17,
   "id": "2197e8e4",
   "metadata": {},
   "outputs": [
    {
     "name": "stdout",
     "output_type": "stream",
     "text": [
      "FPGA0 Experiment 1 2BIT XOR Accuracy List : Min: 0.6859157681465149 Max: 0.7385333180427551 Average: 0.7183521389961243 StD 0.014203972363452149 Length 19\n",
      "FPGA1 Experiment 1 2BIT XOR Accuracy List : Min: 0.6708666682243347 Max: 0.7307999730110168 Average: 0.7010801214920847 StD 0.020272074053280614 Length 19\n",
      "FPGA0 Experiment 1 4BIT XOR Accuracy List : Min: 0.5669052600860596 Max: 0.5981600284576416 Average: 0.5852971735753512 StD 0.008119127175108093 Length 19\n",
      "FPGA1 Experiment 1 4BIT XOR Accuracy List : Min: 0.5589052438735962 Max: 0.5853333473205566 Average: 0.5764297121449521 StD 0.0068530146843205995 Length 19\n",
      "FPGA0 Experiment 2 2BIT XOR Accuracy List : Min: 0.6850526332855225 Max: 0.7343999743461609 Average: 0.7126361288522419 StD 0.01745595993405993 Length 19\n",
      "FPGA1 Experiment 2 2BIT XOR Accuracy List : Min: 0.6569473743438721 Max: 0.7325999736785889 Average: 0.7091124183253238 StD 0.023145798418698293 Length 19\n",
      "FPGA0 Experiment 2 4BIT XOR Accuracy List : Min: 0.5317052602767944 Max: 0.5974666476249695 Average: 0.584675111268696 StD 0.015331069727327113 Length 19\n",
      "FPGA1 Experiment 2 4BIT XOR Accuracy List : Min: 0.5536210536956787 Max: 0.5882666707038879 Average: 0.5743586138675087 StD 0.00923186712517765 Length 19\n",
      "FPGA0 Experiment 3 2BIT XOR Accuracy List : Min: 0.687749981880188 Max: 0.7396000027656555 Average: 0.7121820983133818 StD 0.018228694141412097 Length 19\n",
      "FPGA0 Experiment 3 2BIT XOR Accuracy List : Min: 0.6636631488800049 Max: 0.729449987411499 Average: 0.7016504940233732 StD 0.021617371353524227 Length 19\n",
      "FPGA0 Experiment 3 4BIT XOR Accuracy List : Min: 0.5184420943260193 Max: 0.5987333059310913 Average: 0.5825902380441365 StD 0.0171369402436916 Length 19\n",
      "FPGA0 Experiment 3 4BIT XOR Accuracy List : Min: 0.5396444201469421 Max: 0.5888000130653381 Average: 0.5717014733113741 StD 0.011142314663497535 Length 19\n",
      "Average Accuracy for FPGA 0 2BIT XOR'd:  0.714390122053916\n",
      "Average Accuracy for FPGA 1 2BIT XOR'd:  0.7039476779469273\n",
      "Average Accuracy for FPGA 0 4BIT XOR'd:  0.5841875076293945\n",
      "Average Accuracy for FPGA 1 4BIT XOR'd:  0.5741632664412784\n",
      "Average Max Accuracy for FPGA 0 2BIT XOR'd:  0.7396000027656555\n",
      "Average Max Accuracy for FPGA 1 2BIT XOR'd:  0.7325999736785889\n",
      "Average Max Accuracy for FPGA 0 4BIT XOR'd:  0.5987333059310913\n",
      "Average Max Accuracy for FPGA 1 4BIT XOR'd:  0.5888000130653381\n",
      "Average Min Accuracy for FPGA 0 2BIT XOR'd:  0.6850526332855225\n",
      "Average Min Accuracy for FPGA 1 2BIT XOR'd:  0.6569473743438721\n",
      "Average Min Accuracy for FPGA 0 4BIT XOR'd:  0.5184420943260193\n",
      "Average Min Accuracy for FPGA 1 4BIT XOR'd:  0.5396444201469421\n",
      "Average StD Accuracy for FPGA 0 2BIT XOR'd:  0.0017439077034886899\n",
      "Average StD Accuracy for FPGA 1 2BIT XOR'd:  0.001173986837328947\n",
      "Average StD Accuracy for FPGA 0 4BIT XOR'd:  0.003895784562807706\n",
      "Average StD Accuracy for FPGA 1 4BIT XOR'd:  0.0017545763351688609\n",
      "Element Wise Avg for FPGA0 2BIT XOR'd:  [0.68706665 0.69398518 0.71442354 0.69530835 0.72859555 0.70975238\n",
      " 0.70462565 0.69551112 0.72855759 0.72370666 0.70930368 0.71471665\n",
      " 0.71192382 0.72979999 0.72421334 0.72303331 0.72915554 0.7192\n",
      " 0.73053332]\n",
      "Element Wise Avg for FPGA1 2BIT XOR'd:  [0.66502456 0.69753333 0.68851763 0.69450001 0.68398223 0.70014286\n",
      " 0.71701539 0.69754446 0.71629089 0.71762665 0.71945186 0.70925001\n",
      " 0.72205714 0.68755555 0.71648    0.70669999 0.7068     0.7148\n",
      " 0.71373332]\n",
      "Element Wise Avg for FPGA0 4bit XOR'd:  [0.53901754 0.57239258 0.57523139 0.57769167 0.58414221 0.58367618\n",
      " 0.58491284 0.58803334 0.59030304 0.58710666 0.59096295 0.58915001\n",
      " 0.59013335 0.59693333 0.59272001 0.58173333 0.58875555 0.59466666\n",
      " 0.59200001]\n",
      "Element Wise Avg for FPGA1 4bit XOR'd:  [0.55724911 0.55513332 0.56789019 0.56896667 0.56996445 0.57049525\n",
      " 0.57197948 0.57522223 0.57375757 0.57511999 0.57817777 0.57239999\n",
      " 0.58245715 0.58095556 0.58693333 0.5796     0.58586667 0.58333333\n",
      " 0.57359999]\n"
     ]
    }
   ],
   "source": [
    "# Experiment 1\n",
    "nparray_experiment1_fpga0_2bit_xor = np.asarray(accuracy_list_fpga0_2bit_xor_exp1)\n",
    "nparray_experiment1_fpga1_2bit_xor = np.asarray(accuracy_list_fpga1_2bit_xor_exp1)\n",
    "nparray_experiment1_fpga0_4bit_xor = np.asarray(accuracy_list_fpga0_4bit_xor_exp1)\n",
    "nparray_experiment1_fpga1_4bit_xor = np.asarray(accuracy_list_fpga1_4bit_xor_exp1)\n",
    "\n",
    "print(\"FPGA0 Experiment 1 2BIT XOR Accuracy List :\",\"Min:\", np.min(nparray_experiment1_fpga0_2bit_xor), \"Max:\", np.max(nparray_experiment1_fpga0_2bit_xor), \"Average:\", np.average(nparray_experiment1_fpga0_2bit_xor), \"StD\", np.std(nparray_experiment1_fpga0_2bit_xor), \"Length\", len(nparray_experiment1_fpga0_2bit_xor))\n",
    "print(\"FPGA1 Experiment 1 2BIT XOR Accuracy List :\",\"Min:\", np.min(nparray_experiment1_fpga1_2bit_xor), \"Max:\", np.max(nparray_experiment1_fpga1_2bit_xor), \"Average:\", np.average(nparray_experiment1_fpga1_2bit_xor), \"StD\", np.std(nparray_experiment1_fpga1_2bit_xor), \"Length\", len(nparray_experiment1_fpga1_2bit_xor))\n",
    "print(\"FPGA0 Experiment 1 4BIT XOR Accuracy List :\",\"Min:\", np.min(nparray_experiment1_fpga0_4bit_xor), \"Max:\", np.max(nparray_experiment1_fpga0_4bit_xor), \"Average:\", np.average(nparray_experiment1_fpga0_4bit_xor), \"StD\", np.std(nparray_experiment1_fpga0_4bit_xor), \"Length\", len(nparray_experiment1_fpga0_4bit_xor))\n",
    "print(\"FPGA1 Experiment 1 4BIT XOR Accuracy List :\",\"Min:\", np.min(nparray_experiment1_fpga1_4bit_xor), \"Max:\", np.max(nparray_experiment1_fpga1_4bit_xor), \"Average:\", np.average(nparray_experiment1_fpga1_4bit_xor), \"StD\", np.std(nparray_experiment1_fpga1_4bit_xor), \"Length\", len(nparray_experiment1_fpga1_4bit_xor))\n",
    "\n",
    "\n",
    "# Experiment 2\n",
    "nparray_experiment2_fpga0_2bit_xor = np.asarray(accuracy_list_fpga0_2bit_xor_exp2)\n",
    "nparray_experiment2_fpga1_2bit_xor = np.asarray(accuracy_list_fpga1_2bit_xor_exp2)\n",
    "nparray_experiment2_fpga0_4bit_xor = np.asarray(accuracy_list_fpga0_4bit_xor_exp2)\n",
    "nparray_experiment2_fpga1_4bit_xor = np.asarray(accuracy_list_fpga1_4bit_xor_exp2)\n",
    "\n",
    "print(\"FPGA0 Experiment 2 2BIT XOR Accuracy List :\",\"Min:\", np.min(nparray_experiment2_fpga0_2bit_xor), \"Max:\", np.max(nparray_experiment2_fpga0_2bit_xor), \"Average:\", np.average(nparray_experiment2_fpga0_2bit_xor), \"StD\", np.std(nparray_experiment2_fpga0_2bit_xor), \"Length\", len(nparray_experiment2_fpga0_2bit_xor))\n",
    "print(\"FPGA1 Experiment 2 2BIT XOR Accuracy List :\",\"Min:\", np.min(nparray_experiment2_fpga1_2bit_xor), \"Max:\", np.max(nparray_experiment2_fpga1_2bit_xor), \"Average:\", np.average(nparray_experiment2_fpga1_2bit_xor), \"StD\", np.std(nparray_experiment2_fpga1_2bit_xor), \"Length\", len(nparray_experiment2_fpga1_2bit_xor))\n",
    "print(\"FPGA0 Experiment 2 4BIT XOR Accuracy List :\",\"Min:\", np.min(nparray_experiment2_fpga0_4bit_xor), \"Max:\", np.max(nparray_experiment2_fpga0_4bit_xor), \"Average:\", np.average(nparray_experiment2_fpga0_4bit_xor), \"StD\", np.std(nparray_experiment2_fpga0_4bit_xor), \"Length\", len(nparray_experiment2_fpga0_4bit_xor))\n",
    "print(\"FPGA1 Experiment 2 4BIT XOR Accuracy List :\",\"Min:\", np.min(nparray_experiment2_fpga1_4bit_xor), \"Max:\", np.max(nparray_experiment2_fpga1_4bit_xor), \"Average:\", np.average(nparray_experiment2_fpga1_4bit_xor), \"StD\", np.std(nparray_experiment2_fpga1_4bit_xor), \"Length\", len(nparray_experiment2_fpga1_4bit_xor))\n",
    "\n",
    "# Experiment 3\n",
    "nparray_experiment3_fpga0_2bit_xor = np.asarray(accuracy_list_fpga0_2bit_xor_exp3)\n",
    "nparray_experiment3_fpga1_2bit_xor = np.asarray(accuracy_list_fpga1_2bit_xor_exp3)\n",
    "nparray_experiment3_fpga0_4bit_xor = np.asarray(accuracy_list_fpga0_4bit_xor_exp3)\n",
    "nparray_experiment3_fpga1_4bit_xor = np.asarray(accuracy_list_fpga1_4bit_xor_exp3)\n",
    "\n",
    "print(\"FPGA0 Experiment 3 2BIT XOR Accuracy List :\",\"Min:\", np.min(nparray_experiment3_fpga0_2bit_xor), \"Max:\", np.max(nparray_experiment3_fpga0_2bit_xor), \"Average:\", np.average(nparray_experiment3_fpga0_2bit_xor), \"StD\", np.std(nparray_experiment3_fpga0_2bit_xor), \"Length\", len(nparray_experiment3_fpga0_2bit_xor))\n",
    "print(\"FPGA0 Experiment 3 2BIT XOR Accuracy List :\",\"Min:\", np.min(nparray_experiment3_fpga1_2bit_xor), \"Max:\", np.max(nparray_experiment3_fpga1_2bit_xor), \"Average:\", np.average(nparray_experiment3_fpga1_2bit_xor), \"StD\", np.std(nparray_experiment3_fpga1_2bit_xor), \"Length\", len(nparray_experiment3_fpga1_2bit_xor))\n",
    "print(\"FPGA0 Experiment 3 4BIT XOR Accuracy List :\",\"Min:\", np.min(nparray_experiment3_fpga0_4bit_xor), \"Max:\", np.max(nparray_experiment3_fpga0_4bit_xor), \"Average:\", np.average(nparray_experiment3_fpga0_4bit_xor), \"StD\", np.std(nparray_experiment3_fpga0_4bit_xor), \"Length\", len(nparray_experiment3_fpga0_4bit_xor))\n",
    "print(\"FPGA0 Experiment 3 4BIT XOR Accuracy List :\",\"Min:\", np.min(nparray_experiment3_fpga1_4bit_xor), \"Max:\", np.max(nparray_experiment3_fpga1_4bit_xor), \"Average:\", np.average(nparray_experiment3_fpga1_4bit_xor), \"StD\", np.std(nparray_experiment3_fpga1_4bit_xor), \"Length\", len(nparray_experiment3_fpga1_4bit_xor))\n",
    "\n",
    "\n",
    "\n",
    "\n",
    "# Average List for 2bit xor crp accuracy : FPGA0\n",
    "avg_list_fpga0_2bit_xor = []\n",
    "avg_list_fpga0_2bit_xor.append(np.average(nparray_experiment1_fpga0_2bit_xor))\n",
    "avg_list_fpga0_2bit_xor.append(np.average(nparray_experiment2_fpga0_2bit_xor))\n",
    "avg_list_fpga0_2bit_xor.append(np.average(nparray_experiment3_fpga0_2bit_xor))\n",
    "\n",
    "# Average List for 2bit xor crp accuracy : FPGA1\n",
    "avg_list_fpga1_2bit_xor = []\n",
    "avg_list_fpga1_2bit_xor.append(np.average(nparray_experiment1_fpga1_2bit_xor))\n",
    "avg_list_fpga1_2bit_xor.append(np.average(nparray_experiment2_fpga1_2bit_xor))\n",
    "avg_list_fpga1_2bit_xor.append(np.average(nparray_experiment3_fpga1_2bit_xor))\n",
    "\n",
    "# Average List for 4bit xor crp accuracy : FPGA0\n",
    "avg_list_fpga0_4bit_xor = []\n",
    "avg_list_fpga0_4bit_xor.append(np.average(nparray_experiment1_fpga0_4bit_xor))\n",
    "avg_list_fpga0_4bit_xor.append(np.average(nparray_experiment2_fpga0_4bit_xor))\n",
    "avg_list_fpga0_4bit_xor.append(np.average(nparray_experiment3_fpga0_4bit_xor))\n",
    "\n",
    "# Average List for 4bit xor crp accuracy : FPGA1\n",
    "avg_list_fpga1_4bit_xor = []\n",
    "avg_list_fpga1_4bit_xor.append(np.average(nparray_experiment1_fpga1_4bit_xor))\n",
    "avg_list_fpga1_4bit_xor.append(np.average(nparray_experiment2_fpga1_4bit_xor))\n",
    "avg_list_fpga1_4bit_xor.append(np.average(nparray_experiment3_fpga1_4bit_xor))\n",
    "\n",
    "\n",
    "# Average of averages                                          \n",
    "np_avg_list_fpga0_2bit_xor = np.asarray(avg_list_fpga0_2bit_xor)\n",
    "np_avg_list_fpga1_2bit_xor = np.asarray(avg_list_fpga1_2bit_xor)\n",
    "np_avg_list_fpga0_4bit_xor = np.asarray(avg_list_fpga0_4bit_xor)\n",
    "np_avg_list_fpga1_4bit_xor = np.asarray(avg_list_fpga1_4bit_xor)\n",
    "                                          \n",
    "                                          \n",
    "print(\"Average Accuracy for FPGA 0 2BIT XOR'd: \", np.average(np_avg_list_fpga0_2bit_xor))\n",
    "print(\"Average Accuracy for FPGA 1 2BIT XOR'd: \", np.average(np_avg_list_fpga1_2bit_xor))\n",
    "print(\"Average Accuracy for FPGA 0 4BIT XOR'd: \", np.average(np_avg_list_fpga0_4bit_xor))\n",
    "print(\"Average Accuracy for FPGA 1 4BIT XOR'd: \", np.average(np_avg_list_fpga1_4bit_xor))\n",
    "\n",
    "\n",
    "\n",
    "\n",
    "# Average Max List for 2bit xor crp accuracy : FPGA0\n",
    "avg_max_list_fpga0_2bit_xor = []\n",
    "avg_max_list_fpga0_2bit_xor.append(np.max(nparray_experiment1_fpga0_2bit_xor))\n",
    "avg_max_list_fpga0_2bit_xor.append(np.max(nparray_experiment2_fpga0_2bit_xor))\n",
    "avg_max_list_fpga0_2bit_xor.append(np.max(nparray_experiment3_fpga0_2bit_xor))\n",
    "\n",
    "# Average Max List for 2bit xor crp accuracy : FPGA1\n",
    "avg_max_list_fpga1_2bit_xor = []\n",
    "avg_max_list_fpga1_2bit_xor.append(np.max(nparray_experiment1_fpga1_2bit_xor))\n",
    "avg_max_list_fpga1_2bit_xor.append(np.max(nparray_experiment2_fpga1_2bit_xor))\n",
    "avg_max_list_fpga1_2bit_xor.append(np.max(nparray_experiment3_fpga1_2bit_xor))\n",
    "\n",
    "# Average Max List for 4bit xor crp accuracy : FPGA0\n",
    "avg_max_list_fpga0_4bit_xor = []\n",
    "avg_max_list_fpga0_4bit_xor.append(np.max(nparray_experiment1_fpga0_4bit_xor))\n",
    "avg_max_list_fpga0_4bit_xor.append(np.max(nparray_experiment2_fpga0_4bit_xor))\n",
    "avg_max_list_fpga0_4bit_xor.append(np.max(nparray_experiment3_fpga0_4bit_xor))\n",
    "\n",
    "# Average Max List for 4bit xor crp accuracy : FPGA1\n",
    "avg_max_list_fpga1_4bit_xor = []\n",
    "avg_max_list_fpga1_4bit_xor.append(np.max(nparray_experiment1_fpga1_4bit_xor))\n",
    "avg_max_list_fpga1_4bit_xor.append(np.max(nparray_experiment2_fpga1_4bit_xor))\n",
    "avg_max_list_fpga1_4bit_xor.append(np.max(nparray_experiment3_fpga1_4bit_xor))\n",
    "\n",
    "# Average of averages\n",
    "np_avg_max_list_fpga0_2bit_xor = np.asarray(avg_max_list_fpga0_2bit_xor)\n",
    "np_avg_max_list_fpga1_2bit_xor = np.asarray(avg_max_list_fpga1_2bit_xor)\n",
    "np_avg_max_list_fpga0_4bit_xor = np.asarray(avg_max_list_fpga0_4bit_xor)\n",
    "np_avg_max_list_fpga1_4bit_xor = np.asarray(avg_max_list_fpga1_4bit_xor)\n",
    "\n",
    "print(\"Average Max Accuracy for FPGA 0 2BIT XOR'd: \", np.max(np_avg_max_list_fpga0_2bit_xor))\n",
    "print(\"Average Max Accuracy for FPGA 1 2BIT XOR'd: \", np.max(np_avg_max_list_fpga1_2bit_xor))\n",
    "print(\"Average Max Accuracy for FPGA 0 4BIT XOR'd: \", np.max(np_avg_max_list_fpga0_4bit_xor))\n",
    "print(\"Average Max Accuracy for FPGA 1 4BIT XOR'd: \", np.max(np_avg_max_list_fpga1_4bit_xor))\n",
    "\n",
    "\n",
    "\n",
    "\n",
    "# Average Min List for 2bit xor crp accuracy : FPGA0\n",
    "avg_min_list_fpga0_2bit_xor = []\n",
    "avg_min_list_fpga0_2bit_xor.append(np.min(nparray_experiment1_fpga0_2bit_xor))\n",
    "avg_min_list_fpga0_2bit_xor.append(np.min(nparray_experiment2_fpga0_2bit_xor))\n",
    "avg_min_list_fpga0_2bit_xor.append(np.min(nparray_experiment3_fpga0_2bit_xor))\n",
    "\n",
    "# Average Min List for 2bit xor crp accuracy : FPGA1\n",
    "avg_min_list_fpga1_2bit_xor = []\n",
    "avg_min_list_fpga1_2bit_xor.append(np.min(nparray_experiment1_fpga1_2bit_xor))\n",
    "avg_min_list_fpga1_2bit_xor.append(np.min(nparray_experiment2_fpga1_2bit_xor))\n",
    "avg_min_list_fpga1_2bit_xor.append(np.min(nparray_experiment3_fpga1_2bit_xor))\n",
    "\n",
    "# Average Min List for 4bit xor crp accuracy : FPGA0\n",
    "avg_min_list_fpga0_4bit_xor = []\n",
    "avg_min_list_fpga0_4bit_xor.append(np.min(nparray_experiment1_fpga0_4bit_xor))\n",
    "avg_min_list_fpga0_4bit_xor.append(np.min(nparray_experiment2_fpga0_4bit_xor))\n",
    "avg_min_list_fpga0_4bit_xor.append(np.min(nparray_experiment3_fpga0_4bit_xor))\n",
    "\n",
    "# Average Min List for 4bit xor crp accuracy : FPGA1\n",
    "avg_min_list_fpga1_4bit_xor = []\n",
    "avg_min_list_fpga1_4bit_xor.append(np.min(nparray_experiment1_fpga1_4bit_xor))\n",
    "avg_min_list_fpga1_4bit_xor.append(np.min(nparray_experiment2_fpga1_4bit_xor))\n",
    "avg_min_list_fpga1_4bit_xor.append(np.min(nparray_experiment3_fpga1_4bit_xor))\n",
    "\n",
    "# Average of averages\n",
    "np_avg_min_list_fpga0_2bit_xor = np.asarray(avg_min_list_fpga0_2bit_xor)\n",
    "np_avg_min_list_fpga1_2bit_xor = np.asarray(avg_min_list_fpga1_2bit_xor)\n",
    "np_avg_min_list_fpga0_4bit_xor = np.asarray(avg_min_list_fpga0_4bit_xor)\n",
    "np_avg_min_list_fpga1_4bit_xor = np.asarray(avg_min_list_fpga1_4bit_xor)\n",
    "\n",
    "print(\"Average Min Accuracy for FPGA 0 2BIT XOR'd: \", np.min(np_avg_min_list_fpga0_2bit_xor))\n",
    "print(\"Average Min Accuracy for FPGA 1 2BIT XOR'd: \", np.min(np_avg_min_list_fpga1_2bit_xor))\n",
    "print(\"Average Min Accuracy for FPGA 0 4BIT XOR'd: \", np.min(np_avg_min_list_fpga0_4bit_xor))\n",
    "print(\"Average Min Accuracy for FPGA 1 4BIT XOR'd: \", np.min(np_avg_min_list_fpga1_4bit_xor))\n",
    "\n",
    "\n",
    "\n",
    "\n",
    "# Average StD List for 2bit xor crp accuracy : FPGA0\n",
    "avg_std_list_fpga0_2bit_xor = []\n",
    "avg_std_list_fpga0_2bit_xor.append(np.std(nparray_experiment1_fpga0_2bit_xor))\n",
    "avg_std_list_fpga0_2bit_xor.append(np.std(nparray_experiment2_fpga0_2bit_xor))\n",
    "avg_std_list_fpga0_2bit_xor.append(np.std(nparray_experiment3_fpga0_2bit_xor))\n",
    "\n",
    "# Average StD List for 2bit xor crp accuracy : FPGA1\n",
    "avg_std_list_fpga1_2bit_xor = []\n",
    "avg_std_list_fpga1_2bit_xor.append(np.std(nparray_experiment1_fpga1_2bit_xor))\n",
    "avg_std_list_fpga1_2bit_xor.append(np.std(nparray_experiment2_fpga1_2bit_xor))\n",
    "avg_std_list_fpga1_2bit_xor.append(np.std(nparray_experiment3_fpga1_2bit_xor))\n",
    "\n",
    "# Average StD List for 4bit xor crp accuracy : FPGA0\n",
    "avg_std_list_fpga0_4bit_xor = []\n",
    "avg_std_list_fpga0_4bit_xor.append(np.std(nparray_experiment1_fpga0_4bit_xor))\n",
    "avg_std_list_fpga0_4bit_xor.append(np.std(nparray_experiment2_fpga0_4bit_xor))\n",
    "avg_std_list_fpga0_4bit_xor.append(np.std(nparray_experiment3_fpga0_4bit_xor))\n",
    "\n",
    "# Average StD List for 4bit xor crp accuracy : FPGA1\n",
    "avg_std_list_fpga1_4bit_xor = []\n",
    "avg_std_list_fpga1_4bit_xor.append(np.std(nparray_experiment1_fpga1_4bit_xor))\n",
    "avg_std_list_fpga1_4bit_xor.append(np.std(nparray_experiment2_fpga1_4bit_xor))\n",
    "avg_std_list_fpga1_4bit_xor.append(np.std(nparray_experiment3_fpga1_4bit_xor))\n",
    "\n",
    "# Average of averages\n",
    "np_avg_std_list_fpga0_2bit_xor = np.asarray(avg_std_list_fpga0_2bit_xor)\n",
    "np_avg_std_list_fpga1_2bit_xor = np.asarray(avg_std_list_fpga1_2bit_xor)\n",
    "np_avg_std_list_fpga0_4bit_xor = np.asarray(avg_std_list_fpga0_4bit_xor)\n",
    "np_avg_std_list_fpga1_4bit_xor = np.asarray(avg_std_list_fpga1_4bit_xor)\n",
    "\n",
    "print(\"Average StD Accuracy for FPGA 0 2BIT XOR'd: \", np.std(np_avg_std_list_fpga0_2bit_xor))\n",
    "print(\"Average StD Accuracy for FPGA 1 2BIT XOR'd: \", np.std(np_avg_std_list_fpga1_2bit_xor))\n",
    "print(\"Average StD Accuracy for FPGA 0 4BIT XOR'd: \", np.std(np_avg_std_list_fpga0_4bit_xor))\n",
    "print(\"Average StD Accuracy for FPGA 1 4BIT XOR'd: \", np.std(np_avg_std_list_fpga1_4bit_xor))\n",
    "\n",
    "\n",
    "\n",
    "\n",
    "averaged_array_fpga0_2bit_xor = []\n",
    "averaged_array_fpga0_2bit_xor.append(nparray_experiment1_fpga0_2bit_xor)\n",
    "averaged_array_fpga0_2bit_xor.append(nparray_experiment2_fpga0_2bit_xor)\n",
    "averaged_array_fpga0_2bit_xor.append(nparray_experiment3_fpga0_2bit_xor)\n",
    "np_avg_array_fpga0_2bit_xor = np.asarray(averaged_array_fpga0_2bit_xor)\n",
    "\n",
    "averaged_array_fpga1_2bit_xor = []\n",
    "averaged_array_fpga1_2bit_xor.append(nparray_experiment1_fpga1_2bit_xor)\n",
    "averaged_array_fpga1_2bit_xor.append(nparray_experiment2_fpga1_2bit_xor)\n",
    "averaged_array_fpga1_2bit_xor.append(nparray_experiment3_fpga1_2bit_xor)\n",
    "np_avg_array_fpga1_2bit_xor = np.asarray(averaged_array_fpga1_2bit_xor)\n",
    "\n",
    "averaged_array_fpga0_4bit_xor = []\n",
    "averaged_array_fpga0_4bit_xor.append(nparray_experiment1_fpga0_4bit_xor)\n",
    "averaged_array_fpga0_4bit_xor.append(nparray_experiment2_fpga0_4bit_xor)\n",
    "averaged_array_fpga0_4bit_xor.append(nparray_experiment3_fpga0_4bit_xor)\n",
    "np_avg_array_fpga0_4bit_xor = np.asarray(averaged_array_fpga0_4bit_xor)\n",
    "\n",
    "averaged_array_fpga1_4bit_xor = []\n",
    "averaged_array_fpga1_4bit_xor.append(nparray_experiment1_fpga1_4bit_xor)\n",
    "averaged_array_fpga1_4bit_xor.append(nparray_experiment2_fpga1_4bit_xor)\n",
    "averaged_array_fpga1_4bit_xor.append(nparray_experiment3_fpga1_4bit_xor)\n",
    "np_avg_array_fpga1_4bit_xor = np.asarray(averaged_array_fpga1_4bit_xor)\n",
    "\n",
    "\n",
    "print(\"Element Wise Avg for FPGA0 2BIT XOR'd: \", np_avg_array_fpga0_2bit_xor.mean(axis=0))\n",
    "print(\"Element Wise Avg for FPGA1 2BIT XOR'd: \", np_avg_array_fpga1_2bit_xor.mean(axis=0))\n",
    "print(\"Element Wise Avg for FPGA0 4bit XOR'd: \", np_avg_array_fpga0_4bit_xor.mean(axis=0))\n",
    "print(\"Element Wise Avg for FPGA1 4bit XOR'd: \", np_avg_array_fpga1_4bit_xor.mean(axis=0))"
   ]
  },
  {
   "cell_type": "markdown",
   "id": "60cfeea8",
   "metadata": {},
   "source": [
    "# Plots\n",
    "\n",
    "Plot and save (as PDF) each model accurance list (FPGA0 and FPGA1) as a line graph or vertical bar graph (your choice). Make sure to format the plots with adequate size, title, axis labels, ... (see the Tutorial-01-Python).\n",
    "\n",
    "To generate line graphs, use plt.plot(). Read more: https://matplotlib.org/stable/api/_as_gen/matplotlib.pyplot.plot.html\n",
    "\n",
    "To generate vertical bar graphs, use plt.bar(). Read more: https://matplotlib.org/stable/api/_as_gen/matplotlib.pyplot.bar.html"
   ]
  },
  {
   "cell_type": "code",
   "execution_count": 13,
   "id": "5da5d084",
   "metadata": {},
   "outputs": [
    {
     "data": {
      "image/png": "[encoded data removed]",
      "text/plain": [
       "<Figure size 504x288 with 1 Axes>"
      ]
     },
     "metadata": {
      "needs_background": "light"
     },
     "output_type": "display_data"
    }
   ],
   "source": [
    "# get data to plot (NumPy recommended)\n",
    "\n",
    "result = np_avg_array_fpga0_2bit_xor.mean(axis=0)\n",
    "x_axis=[\"5%\",\"10%\", \"15%\", \"20%\", \"25%\", \"30%\", \"35%\", \"40%\", \"45%\", \"50%\", \"55%\", \"60%\", \"65%\", \"70%\", \"75%\", \"80%\", \"85%\", \"90%\", \"95%\"]\n",
    "# average_y_axis=[]\n",
    "\n",
    "\n",
    "# figure properties\n",
    "plt.figure(figsize=(7,4), constrained_layout=True)\n",
    "\n",
    "# plots the data\n",
    "plt.plot(x_axis, result)\n",
    "\n",
    "\n",
    "# format your plots\n",
    "plt.title(\"2BIT XOR Model Accuracy  vs Training Dataset Size: FPGA0\")            # adds title\n",
    "plt.xlabel(\"Percent of Data used for Training\")          # adds x-axis label\n",
    "plt.ylabel(\"Accuracy\")          # adds y-axis label\n",
    "# plt.xlim(0, 3)               # sets x-axis min/max values\n",
    "plt.ylim(0.40, 0.80)             # sets y-axis min/max values\n",
    "\n",
    "\n",
    "# saves the plot\n",
    "plt.savefig(\"../Figures/2bit_accuracy_vs_percent_trained_fpga0.pdf\") # PDF recommended\n",
    "\n",
    "\n",
    "# show the plot on your screen\n",
    "plt.show()\n",
    "\n",
    "\n"
   ]
  },
  {
   "cell_type": "code",
   "execution_count": 14,
   "id": "12130f93",
   "metadata": {},
   "outputs": [
    {
     "data": {
      "image/png": "[encoded data removed]",
      "text/plain": [
       "<Figure size 504x288 with 1 Axes>"
      ]
     },
     "metadata": {
      "needs_background": "light"
     },
     "output_type": "display_data"
    }
   ],
   "source": [
    "# get data to plot (NumPy recommended)\n",
    "\n",
    "result = np_avg_array_fpga1_2bit_xor.mean(axis=0)\n",
    "x_axis=[\"5%\",\"10%\", \"15%\", \"20%\", \"25%\", \"30%\", \"35%\", \"40%\", \"45%\", \"50%\", \"55%\", \"60%\", \"65%\", \"70%\", \"75%\", \"80%\", \"85%\", \"90%\", \"95%\"]\n",
    "# average_y_axis=[]\n",
    "\n",
    "\n",
    "# figure properties\n",
    "plt.figure(figsize=(7,4), constrained_layout=True)\n",
    "\n",
    "# plots the data\n",
    "plt.plot(x_axis, result)\n",
    "\n",
    "\n",
    "# format your plots\n",
    "plt.title(\"2BIT XOR Model Accuracy  vs Training Dataset Size: FPGA1\")            # adds title\n",
    "plt.xlabel(\"Percent of Data used for Training\")          # adds x-axis label\n",
    "plt.ylabel(\"Accuracy\")          # adds y-axis label\n",
    "# plt.xlim(0, 3)               # sets x-axis min/max values\n",
    "plt.ylim(0.40, 0.80)           # sets y-axis min/max values\n",
    "\n",
    "\n",
    "# saves the plot\n",
    "plt.savefig(\"../Figures/2bit_accuracy_vs_percent_trained_fpga1.pdf\") # PDF recommended\n",
    "\n",
    "\n",
    "# show the plot on your screen\n",
    "plt.show()\n",
    "\n"
   ]
  },
  {
   "cell_type": "code",
   "execution_count": 12,
   "id": "81ff7fb7",
   "metadata": {},
   "outputs": [
    {
     "data": {
      "image/png": "[encoded data removed]",
      "text/plain": [
       "<Figure size 504x288 with 1 Axes>"
      ]
     },
     "metadata": {
      "needs_background": "light"
     },
     "output_type": "display_data"
    }
   ],
   "source": [
    "# get data to plot (NumPy recommended)\n",
    "\n",
    "result = np_avg_array_fpga0_4bit_xor.mean(axis=0)\n",
    "x_axis=[\"5%\",\"10%\", \"15%\", \"20%\", \"25%\", \"30%\", \"35%\", \"40%\", \"45%\", \"50%\", \"55%\", \"60%\", \"65%\", \"70%\", \"75%\", \"80%\", \"85%\", \"90%\", \"95%\"]\n",
    "# average_y_axis=[]\n",
    "\n",
    "\n",
    "# figure properties\n",
    "plt.figure(figsize=(7,4), constrained_layout=True)\n",
    "\n",
    "# plots the data\n",
    "plt.plot(x_axis, result)\n",
    "\n",
    "\n",
    "# format your plots\n",
    "plt.title(\"4BIT XOR Model Accuracy  vs Training Dataset Size: FPGA0\")            # adds title\n",
    "plt.xlabel(\"Percent of Data used for Training\")          # adds x-axis label\n",
    "plt.ylabel(\"Accuracy\")          # adds y-axis label\n",
    "# plt.xlim(0, 3)               # sets x-axis min/max values\n",
    "plt.ylim(0.40, 0.80)             # sets y-axis min/max values\n",
    "\n",
    "\n",
    "# saves the plot\n",
    "plt.savefig(\"../Figures/4bit_accuracy_vs_percent_trained_fpga0.pdf\") # PDF recommended\n",
    "\n",
    "\n",
    "# show the plot on your screen\n",
    "plt.show()\n"
   ]
  },
  {
   "cell_type": "code",
   "execution_count": 15,
   "id": "d9bcc3ce",
   "metadata": {},
   "outputs": [
    {
     "data": {
      "image/png": "[encoded data removed]",
      "text/plain": [
       "<Figure size 504x288 with 1 Axes>"
      ]
     },
     "metadata": {
      "needs_background": "light"
     },
     "output_type": "display_data"
    }
   ],
   "source": [
    "# get data to plot (NumPy recommended)\n",
    "\n",
    "result = np_avg_array_fpga1_4bit_xor.mean(axis=0)\n",
    "x_axis=[\"5%\",\"10%\", \"15%\", \"20%\", \"25%\", \"30%\", \"35%\", \"40%\", \"45%\", \"50%\", \"55%\", \"60%\", \"65%\", \"70%\", \"75%\", \"80%\", \"85%\", \"90%\", \"95%\"]\n",
    "# average_y_axis=[]\n",
    "\n",
    "\n",
    "# figure properties\n",
    "plt.figure(figsize=(7,4), constrained_layout=True)\n",
    "\n",
    "# plots the data\n",
    "plt.plot(x_axis, result)\n",
    "\n",
    "# format your plots\n",
    "plt.title(\"4BIT XOR Model Accuracy  vs Training Dataset Size: FPGA1\")            # adds title\n",
    "plt.xlabel(\"Percent of Data used for Training\")          # adds x-axis label\n",
    "plt.ylabel(\"Accuracy\")          # adds y-axis label\n",
    "# plt.xlim(0, 3)               # sets x-axis min/max values\n",
    "plt.ylim(0.40, 0.80)             # sets y-axis min/max values\n",
    "\n",
    "\n",
    "# saves the plot\n",
    "plt.savefig(\"../Figures/4bit_accuracy_vs_percent_trained_fpga1.pdf\") # PDF recommended\n",
    "\n",
    "\n",
    "# show the plot on your screen\n",
    "plt.show()\n",
    "\n"
   ]
  }
 ],
 "metadata": {
  "kernelspec": {
   "display_name": "Python 3 (ipykernel)",
   "language": "python",
   "name": "python3"
  },
  "language_info": {
   "codemirror_mode": {
    "name": "ipython",
    "version": 3
   },
   "file_extension": ".py",
   "mimetype": "text/x-python",
   "name": "python",
   "nbconvert_exporter": "python",
   "pygments_lexer": "ipython3",
   "version": "3.9.5"
  },
  "toc": {
   "base_numbering": 1,
   "nav_menu": {},
   "number_sections": true,
   "sideBar": true,
   "skip_h1_title": false,
   "title_cell": "Table of Contents",
   "title_sidebar": "Contents",
   "toc_cell": false,
   "toc_position": {},
   "toc_section_display": true,
   "toc_window_display": false
  }
 },
 "nbformat": 4,
 "nbformat_minor": 5
}
