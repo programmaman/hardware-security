{
 "cells": [
  {
   "cell_type": "markdown",
   "id": "27249bb5",
   "metadata": {},
   "source": [
    "# ZIP or Compress file\n",
    "\n",
    "Run this code to zip (compress) all your files from this directory. The zip file name will be the same as the current directory"
   ]
  },
  {
   "cell_type": "code",
   "execution_count": 6,
   "id": "b8e451d7",
   "metadata": {
    "code_folding": [],
    "scrolled": true
   },
   "outputs": [
    {
     "name": "stdout",
     "output_type": "stream",
     "text": [
      "updating: Figures/ (stored 0%)\r\n",
      "updating: Firmware/ (stored 0%)\r\n",
      "updating: Python/ (stored 0%)\r\n",
      "updating: Python/Lab-04-SCA-Statistical-Analysis.ipynb (deflated 49%)\r\n",
      "updating: RUN-TO-ZIP.ipynb (deflated 72%)\r\n",
      "updating: Firmware/.ipynb_checkpoints/ (stored 0%)\r\n",
      "updating: Firmware/tvla-test.c (deflated 71%)\r\n",
      "updating: Firmware/tvla-test-CWNANO.hex (deflated 60%)\r\n",
      "updating: Firmware/.dep/ (stored 0%)\r\n",
      "updating: Firmware/.dep/simpleserial.o.d (deflated 72%)\r\n",
      "updating: Firmware/.dep/tvla-test.o.d (deflated 64%)\r\n",
      "updating: Firmware/.dep/stm32f0_hal_lowlevel.o.d (deflated 88%)\r\n",
      "updating: Firmware/.dep/stm32f0_hal_nano.o.d (deflated 88%)\r\n",
      "updating: Firmware/makefile (deflated 57%)\r\n",
      "updating: Python/.ipynb_checkpoints/ (stored 0%)\r\n",
      "updating: Python/.ipynb_checkpoints/Lab-04-SCA-Statistical-Analysis-checkpoint.ipynb (deflated 83%)\r\n",
      "updating: Figures/tvla_a_t.pdf (deflated 27%)\r\n",
      "updating: Figures/tvla_b.pdf (deflated 23%)\r\n",
      "updating: Figures/tvla_c2.pdf (deflated 22%)\r\n",
      "updating: Figures/.ipynb_checkpoints/ (stored 0%)\r\n",
      "updating: Figures/tvla_c_t.pdf (deflated 27%)\r\n",
      "updating: Figures/tvla_a2.pdf (deflated 22%)\r\n",
      "updating: Figures/tvla_b_t.pdf (deflated 27%)\r\n",
      "updating: Figures/tvla_a.pdf (deflated 22%)\r\n",
      "updating: Figures/tvla_b_diff.pdf (deflated 25%)\r\n",
      "updating: Figures/tvla_b2.pdf (deflated 23%)\r\n",
      "updating: Figures/tvla_c.pdf (deflated 23%)\r\n",
      "updating: Figures/tvla_c_diff.pdf (deflated 23%)\r\n",
      "updating: Figures/tvla_a_diff.pdf (deflated 24%)\r\n"
     ]
    }
   ],
   "source": [
    "#\n",
    "#RUN THIS CELL TO ZIP ALL YOUR FILES FROM THIS DIRECTORY\n",
    "!f=\"$(basename $PWD).zip\" && zip -r $f * -x $f"
   ]
  },
  {
   "cell_type": "markdown",
   "id": "b4ae6ae9",
   "metadata": {
    "heading_collapsed": true
   },
   "source": [
    "# UNZIP or Decompress file\n",
    "\n",
    "Run this code to unzip (decompress) your zip file. The zip file must have the same name as the current directory."
   ]
  },
  {
   "cell_type": "code",
   "execution_count": null,
   "id": "3930d5bb",
   "metadata": {
    "hidden": true
   },
   "outputs": [],
   "source": [
    "#Run this to unzip (decompress) your file\n",
    "!f=\"$(basename $PWD).zip\" && unzip -o $f"
   ]
  },
  {
   "cell_type": "code",
   "execution_count": null,
   "id": "010fa5ca",
   "metadata": {
    "hidden": true
   },
   "outputs": [],
   "source": []
  }
 ],
 "metadata": {
  "kernelspec": {
   "display_name": "Python 3 (ipykernel)",
   "language": "python",
   "name": "python3"
  },
  "language_info": {
   "codemirror_mode": {
    "name": "ipython",
    "version": 3
   },
   "file_extension": ".py",
   "mimetype": "text/x-python",
   "name": "python",
   "nbconvert_exporter": "python",
   "pygments_lexer": "ipython3",
   "version": "3.9.5"
  },
  "toc": {
   "base_numbering": 1,
   "nav_menu": {},
   "number_sections": true,
   "sideBar": true,
   "skip_h1_title": false,
   "title_cell": "Table of Contents",
   "title_sidebar": "Contents",
   "toc_cell": false,
   "toc_position": {},
   "toc_section_display": true,
   "toc_window_display": false
  }
 },
 "nbformat": 4,
 "nbformat_minor": 5
}
