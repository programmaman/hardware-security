{
 "cells": [
  {
   "cell_type": "markdown",
   "id": "27249bb5",
   "metadata": {},
   "source": [
    "# ZIP or Compress file\n",
    "\n",
    "Run this code to zip (compress) all your files from this directory. The zip file name will be the same as the current directory"
   ]
  },
  {
   "cell_type": "code",
   "execution_count": null,
   "id": "b8e451d7",
   "metadata": {
    "code_folding": []
   },
   "outputs": [],
   "source": [
    "#RUN THIS CELL TO ZIP ALL YOUR FILES FROM THIS DIRECTORY\n",
    "!f=\"$(basename $PWD).zip\" && zip -r $f * -x $f"
   ]
  },
  {
   "cell_type": "markdown",
   "id": "b4ae6ae9",
   "metadata": {},
   "source": [
    "# UNZIP or Decompress file\n",
    "\n",
    "Run this code to unzip (decompress) your zip file. The zip file must have the same name as the current directory."
   ]
  },
  {
   "cell_type": "code",
   "execution_count": null,
   "id": "3930d5bb",
   "metadata": {},
   "outputs": [],
   "source": [
    "#Run this to unzip (decompress) your file\n",
    "!f=\"$(basename $PWD).zip\" && unzip -o $f"
   ]
  },
  {
   "cell_type": "code",
   "execution_count": null,
   "id": "010fa5ca",
   "metadata": {},
   "outputs": [],
   "source": []
  }
 ],
 "metadata": {
  "kernelspec": {
   "display_name": "Python 3 (ipykernel)",
   "language": "python",
   "name": "python3"
  },
  "language_info": {
   "codemirror_mode": {
    "name": "ipython",
    "version": 3
   },
   "file_extension": ".py",
   "mimetype": "text/x-python",
   "name": "python",
   "nbconvert_exporter": "python",
   "pygments_lexer": "ipython3",
   "version": "3.9.5"
  },
  "toc": {
   "base_numbering": 1,
   "nav_menu": {},
   "number_sections": true,
   "sideBar": true,
   "skip_h1_title": false,
   "title_cell": "Table of Contents",
   "title_sidebar": "Contents",
   "toc_cell": false,
   "toc_position": {},
   "toc_section_display": true,
   "toc_window_display": false
  },
  "varInspector": {
   "cols": {
    "lenName": 16,
    "lenType": 16,
    "lenVar": 40
   },
   "kernels_config": {
    "python": {
     "delete_cmd_postfix": "",
     "delete_cmd_prefix": "del ",
     "library": "var_list.py",
     "varRefreshCmd": "print(var_dic_list())"
    },
    "r": {
     "delete_cmd_postfix": ") ",
     "delete_cmd_prefix": "rm(",
     "library": "var_list.r",
     "varRefreshCmd": "cat(var_dic_list()) "
    }
   },
   "types_to_exclude": [
    "module",
    "function",
    "builtin_function_or_method",
    "instance",
    "_Feature"
   ],
   "window_display": false
  }
 },
 "nbformat": 4,
 "nbformat_minor": 5
}
