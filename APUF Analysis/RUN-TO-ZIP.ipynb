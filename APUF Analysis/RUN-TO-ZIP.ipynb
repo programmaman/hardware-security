{
 "cells": [
  {
   "cell_type": "markdown",
   "id": "27249bb5",
   "metadata": {},
   "source": [
    "# ZIP or Compress file\n",
    "\n",
    "Run this code to zip (compress) all your files from this directory. The zip file name will be the same as the current directory"
   ]
  },
  {
   "cell_type": "code",
   "execution_count": 3,
   "id": "b8e451d7",
   "metadata": {
    "code_folding": []
   },
   "outputs": [
    {
     "name": "stdout",
     "output_type": "stream",
     "text": [
      "updating: Challenges/ (stored 0%)\n",
      "updating: Challenges/challenges_05k.npz (deflated 1%)\n",
      "updating: Challenges/challenges_50k.npz (deflated 1%)\n",
      "updating: Challenges/challenges_10k.npz (deflated 1%)\n",
      "updating: Code/ (stored 0%)\n",
      "updating: Code/Lab-01-Acquisition.ipynb (deflated 87%)\n",
      "updating: Code/Lab-01-Analysis.ipynb (deflated 62%)\n",
      "updating: Figures/ (stored 0%)\n",
      "updating: Hardware/ (stored 0%)\n",
      "updating: Hardware/APUF_CmodS7_01.bit (deflated 94%)\n",
      "updating: Hardware/APUF_CmodS7_02.bit (deflated 94%)\n",
      "updating: RUN-TO-ZIP.ipynb (deflated 74%)\n",
      "updating: Responses/ (stored 0%)\n",
      "updating: Code/.ipynb_checkpoints/ (stored 0%)\n",
      "updating: Code/.ipynb_checkpoints/Lab-01-Analysis-checkpoint.ipynb (deflated 70%)\n",
      "updating: Code/.ipynb_checkpoints/Lab-01-Acquisition-checkpoint.ipynb (deflated 73%)\n",
      "updating: Responses/fpga0_resp3_bitfile1_jasmin_50k.npz (deflated 95%)\n",
      "updating: Responses/.ipynb_checkpoints/ (stored 0%)\n",
      "updating: Responses/fpga0_resp3_bitfile2_alec_50k.npz (deflated 94%)\n",
      "updating: Responses/fpga0_resp1_bitfile2_alec_50k.npz (deflated 94%)\n",
      "updating: Responses/fpga0_resp2_bitfile1_alec_50k.npz (deflated 95%)\n",
      "updating: Responses/fpga0_resp2_bitfile2_jasmin_50k.npz (deflated 94%)\n",
      "updating: Responses/fpga0_resp3_bitfile1_alec_50k.npz (deflated 95%)\n",
      "updating: Responses/fpga0_resp1_bitfile1_jasmin_50k.npz (deflated 95%)\n",
      "updating: Responses/fpga0_resp3_bitfile2_jasmin_50k.npz (deflated 94%)\n",
      "updating: Responses/fpga0_resp1_bitfile1_alec_50k.npz (deflated 95%)\n",
      "updating: Responses/fpga0_resp2_bitfile2_alec_50k.npz (deflated 94%)\n",
      "updating: Responses/fpga0_resp2_bitfile1_jasmin_50k.npz (deflated 95%)\n",
      "updating: Responses/fpga0_resp1_bitfile2_jasmin_50k.npz (deflated 94%)\n",
      "  adding: Figures/avg_hd_bitfile2.png (deflated 20%)\n",
      "  adding: Figures/.ipynb_checkpoints/ (stored 0%)\n",
      "  adding: Figures/avg_hd_bitfile2.pdf (deflated 35%)\n",
      "  adding: Figures/std_bitfile1.pdf (deflated 33%)\n",
      "  adding: Figures/std_bitfile1.png (deflated 20%)\n",
      "  adding: Figures/std_bitfile2.pdf (deflated 33%)\n",
      "  adding: Figures/avg_hd_bitfile1.pdf (deflated 36%)\n",
      "  adding: Figures/avg_hd_bitfile1.png (deflated 21%)\n",
      "  adding: Figures/std_bitfile2.png (deflated 20%)\n"
     ]
    }
   ],
   "source": [
    "#\n",
    "#RUN THIS CELL TO ZIP ALL YOUR FILES FROM THIS DIRECTORY\n",
    "!f=\"$(basename $PWD).zip\" && zip -r $f * -x $f"
   ]
  },
  {
   "cell_type": "markdown",
   "id": "b4ae6ae9",
   "metadata": {
    "heading_collapsed": true
   },
   "source": [
    "# UNZIP or Decompress file\n",
    "\n",
    "Run this code to unzip (decompress) your zip file. The zip file must have the same name as the current directory."
   ]
  },
  {
   "cell_type": "code",
   "execution_count": null,
   "id": "3930d5bb",
   "metadata": {
    "hidden": true
   },
   "outputs": [],
   "source": [
    "#Run this to unzip (decompress) your file\n",
    "!f=\"$(basename $PWD).zip\" && unzip -o $f"
   ]
  },
  {
   "cell_type": "code",
   "execution_count": null,
   "id": "010fa5ca",
   "metadata": {
    "hidden": true
   },
   "outputs": [],
   "source": []
  }
 ],
 "metadata": {
  "kernelspec": {
   "display_name": "Python 3 (ipykernel)",
   "language": "python",
   "name": "python3"
  },
  "language_info": {
   "codemirror_mode": {
    "name": "ipython",
    "version": 3
   },
   "file_extension": ".py",
   "mimetype": "text/x-python",
   "name": "python",
   "nbconvert_exporter": "python",
   "pygments_lexer": "ipython3",
   "version": "3.9.5"
  },
  "toc": {
   "base_numbering": 1,
   "nav_menu": {},
   "number_sections": true,
   "sideBar": true,
   "skip_h1_title": false,
   "title_cell": "Table of Contents",
   "title_sidebar": "Contents",
   "toc_cell": false,
   "toc_position": {},
   "toc_section_display": true,
   "toc_window_display": false
  }
 },
 "nbformat": 4,
 "nbformat_minor": 5
}
